{
 "cells": [
  {
   "cell_type": "markdown",
   "metadata": {},
   "source": [
    "# 2/19 빅데이터프로젝트 1일차"
   ]
  },
  {
   "cell_type": "code",
   "execution_count": 1,
   "metadata": {},
   "outputs": [],
   "source": [
    "import pandas as pd\n",
    "import matplotlib.pyplot as plt\n",
    "import seaborn as sns\n",
    "import numpy as np\n",
    "import matplotlib\n",
    "# 한글출력\n",
    "import matplotlib.font_manager as fm\n",
    "\n",
    "# font_location = '/usr/share/fonts/truetype/nanum/NanumSquareB.ttf'\n",
    "# font_name = fm.FontProperties(fname = font_location).get_name()\n",
    "# matplotlib.rc('font',family = font_name)"
   ]
  },
  {
   "cell_type": "code",
   "execution_count": 2,
   "metadata": {},
   "outputs": [],
   "source": [
    "import matplotlib"
   ]
  },
  {
   "cell_type": "code",
   "execution_count": 3,
   "metadata": {},
   "outputs": [
    {
     "name": "stdout",
     "output_type": "stream",
     "text": [
      "버전:  3.1.1\n",
      "설치위치:  /home/pirl/anaconda3/lib/python3.7/site-packages/matplotlib/__init__.py\n",
      "설정:  /home/pirl/.config/matplotlib\n",
      "캐시:  /home/pirl/.cache/matplotlib\n"
     ]
    }
   ],
   "source": [
    "print ('버전: ', matplotlib.__version__)\n",
    "print ('설치위치: ', matplotlib.__file__)\n",
    "print ('설정: ', matplotlib.get_configdir())\n",
    "print ('캐시: ', matplotlib.get_cachedir())"
   ]
  },
  {
   "cell_type": "code",
   "execution_count": null,
   "metadata": {},
   "outputs": [],
   "source": []
  },
  {
   "cell_type": "code",
   "execution_count": 3,
   "metadata": {},
   "outputs": [
    {
     "data": {
      "text/html": [
       "<div>\n",
       "<style scoped>\n",
       "    .dataframe tbody tr th:only-of-type {\n",
       "        vertical-align: middle;\n",
       "    }\n",
       "\n",
       "    .dataframe tbody tr th {\n",
       "        vertical-align: top;\n",
       "    }\n",
       "\n",
       "    .dataframe thead th {\n",
       "        text-align: right;\n",
       "    }\n",
       "</style>\n",
       "<table border=\"1\" class=\"dataframe\">\n",
       "  <thead>\n",
       "    <tr style=\"text-align: right;\">\n",
       "      <th></th>\n",
       "      <th>회원번호</th>\n",
       "      <th>조합원상태</th>\n",
       "      <th>주소</th>\n",
       "      <th>성별</th>\n",
       "      <th>연령</th>\n",
       "      <th>배송서비스신청여부</th>\n",
       "      <th>모바일알람여부</th>\n",
       "      <th>Gold_member</th>\n",
       "    </tr>\n",
       "  </thead>\n",
       "  <tbody>\n",
       "    <tr>\n",
       "      <td>0</td>\n",
       "      <td>1000012800</td>\n",
       "      <td>정상회원</td>\n",
       "      <td>수지구-풍덕천동</td>\n",
       "      <td>여</td>\n",
       "      <td>58.0</td>\n",
       "      <td>미신청</td>\n",
       "      <td>.</td>\n",
       "      <td>normal</td>\n",
       "    </tr>\n",
       "    <tr>\n",
       "      <td>1</td>\n",
       "      <td>1000103744</td>\n",
       "      <td>정상회원</td>\n",
       "      <td>처인구-고림동</td>\n",
       "      <td>여</td>\n",
       "      <td>34.0</td>\n",
       "      <td>미신청</td>\n",
       "      <td>.</td>\n",
       "      <td>normal</td>\n",
       "    </tr>\n",
       "    <tr>\n",
       "      <td>2</td>\n",
       "      <td>1000122304</td>\n",
       "      <td>정상회원</td>\n",
       "      <td>광주-기타</td>\n",
       "      <td>여</td>\n",
       "      <td>38.0</td>\n",
       "      <td>미신청</td>\n",
       "      <td>.</td>\n",
       "      <td>normal</td>\n",
       "    </tr>\n",
       "    <tr>\n",
       "      <td>3</td>\n",
       "      <td>1000163136</td>\n",
       "      <td>정상회원</td>\n",
       "      <td>수지구-동천동</td>\n",
       "      <td>여</td>\n",
       "      <td>73.0</td>\n",
       "      <td>미신청</td>\n",
       "      <td>.</td>\n",
       "      <td>normal</td>\n",
       "    </tr>\n",
       "    <tr>\n",
       "      <td>4</td>\n",
       "      <td>1000281920</td>\n",
       "      <td>정상회원</td>\n",
       "      <td>수지구-풍덕천동</td>\n",
       "      <td>여</td>\n",
       "      <td>42.0</td>\n",
       "      <td>신청</td>\n",
       "      <td>.</td>\n",
       "      <td>normal</td>\n",
       "    </tr>\n",
       "  </tbody>\n",
       "</table>\n",
       "</div>"
      ],
      "text/plain": [
       "         회원번호 조합원상태        주소 성별    연령 배송서비스신청여부 모바일알람여부 Gold_member\n",
       "0  1000012800  정상회원  수지구-풍덕천동  여  58.0       미신청       .      normal\n",
       "1  1000103744  정상회원   처인구-고림동  여  34.0       미신청       .      normal\n",
       "2  1000122304  정상회원     광주-기타  여  38.0       미신청       .      normal\n",
       "3  1000163136  정상회원   수지구-동천동  여  73.0       미신청       .      normal\n",
       "4  1000281920  정상회원  수지구-풍덕천동  여  42.0        신청       .      normal"
      ]
     },
     "execution_count": 3,
     "metadata": {},
     "output_type": "execute_result"
    }
   ],
   "source": [
    "mfile = pd.read_csv('member_data.csv', encoding = 'utf-8')\n",
    "mfile.head()"
   ]
  },
  {
   "cell_type": "markdown",
   "metadata": {},
   "source": [
    "### 주소에서 구, 동 분리"
   ]
  },
  {
   "cell_type": "code",
   "execution_count": 4,
   "metadata": {},
   "outputs": [
    {
     "data": {
      "text/html": [
       "<div>\n",
       "<style scoped>\n",
       "    .dataframe tbody tr th:only-of-type {\n",
       "        vertical-align: middle;\n",
       "    }\n",
       "\n",
       "    .dataframe tbody tr th {\n",
       "        vertical-align: top;\n",
       "    }\n",
       "\n",
       "    .dataframe thead th {\n",
       "        text-align: right;\n",
       "    }\n",
       "</style>\n",
       "<table border=\"1\" class=\"dataframe\">\n",
       "  <thead>\n",
       "    <tr style=\"text-align: right;\">\n",
       "      <th></th>\n",
       "      <th>회원번호</th>\n",
       "      <th>조합원상태</th>\n",
       "      <th>주소</th>\n",
       "      <th>성별</th>\n",
       "      <th>연령</th>\n",
       "      <th>배송서비스신청여부</th>\n",
       "      <th>모바일알람여부</th>\n",
       "      <th>Gold_member</th>\n",
       "      <th>구</th>\n",
       "      <th>동</th>\n",
       "    </tr>\n",
       "  </thead>\n",
       "  <tbody>\n",
       "    <tr>\n",
       "      <td>0</td>\n",
       "      <td>1000012800</td>\n",
       "      <td>정상회원</td>\n",
       "      <td>수지구-풍덕천동</td>\n",
       "      <td>여</td>\n",
       "      <td>58.0</td>\n",
       "      <td>미신청</td>\n",
       "      <td>.</td>\n",
       "      <td>normal</td>\n",
       "      <td>수지구</td>\n",
       "      <td>풍덕천동</td>\n",
       "    </tr>\n",
       "    <tr>\n",
       "      <td>1</td>\n",
       "      <td>1000103744</td>\n",
       "      <td>정상회원</td>\n",
       "      <td>처인구-고림동</td>\n",
       "      <td>여</td>\n",
       "      <td>34.0</td>\n",
       "      <td>미신청</td>\n",
       "      <td>.</td>\n",
       "      <td>normal</td>\n",
       "      <td>처인구</td>\n",
       "      <td>고림동</td>\n",
       "    </tr>\n",
       "    <tr>\n",
       "      <td>2</td>\n",
       "      <td>1000122304</td>\n",
       "      <td>정상회원</td>\n",
       "      <td>광주-기타</td>\n",
       "      <td>여</td>\n",
       "      <td>38.0</td>\n",
       "      <td>미신청</td>\n",
       "      <td>.</td>\n",
       "      <td>normal</td>\n",
       "      <td>광주</td>\n",
       "      <td>기타</td>\n",
       "    </tr>\n",
       "    <tr>\n",
       "      <td>3</td>\n",
       "      <td>1000163136</td>\n",
       "      <td>정상회원</td>\n",
       "      <td>수지구-동천동</td>\n",
       "      <td>여</td>\n",
       "      <td>73.0</td>\n",
       "      <td>미신청</td>\n",
       "      <td>.</td>\n",
       "      <td>normal</td>\n",
       "      <td>수지구</td>\n",
       "      <td>동천동</td>\n",
       "    </tr>\n",
       "    <tr>\n",
       "      <td>4</td>\n",
       "      <td>1000281920</td>\n",
       "      <td>정상회원</td>\n",
       "      <td>수지구-풍덕천동</td>\n",
       "      <td>여</td>\n",
       "      <td>42.0</td>\n",
       "      <td>신청</td>\n",
       "      <td>.</td>\n",
       "      <td>normal</td>\n",
       "      <td>수지구</td>\n",
       "      <td>풍덕천동</td>\n",
       "    </tr>\n",
       "  </tbody>\n",
       "</table>\n",
       "</div>"
      ],
      "text/plain": [
       "         회원번호 조합원상태        주소 성별    연령 배송서비스신청여부 모바일알람여부 Gold_member    구  \\\n",
       "0  1000012800  정상회원  수지구-풍덕천동  여  58.0       미신청       .      normal  수지구   \n",
       "1  1000103744  정상회원   처인구-고림동  여  34.0       미신청       .      normal  처인구   \n",
       "2  1000122304  정상회원     광주-기타  여  38.0       미신청       .      normal   광주   \n",
       "3  1000163136  정상회원   수지구-동천동  여  73.0       미신청       .      normal  수지구   \n",
       "4  1000281920  정상회원  수지구-풍덕천동  여  42.0        신청       .      normal  수지구   \n",
       "\n",
       "      동  \n",
       "0  풍덕천동  \n",
       "1   고림동  \n",
       "2    기타  \n",
       "3   동천동  \n",
       "4  풍덕천동  "
      ]
     },
     "execution_count": 4,
     "metadata": {},
     "output_type": "execute_result"
    }
   ],
   "source": [
    "mfile['구'] = mfile.주소.str.split('-').str[0]\n",
    "mfile['동'] = mfile.주소.str.split('-').str[1]\n",
    "mfile.head()"
   ]
  },
  {
   "cell_type": "markdown",
   "metadata": {},
   "source": [
    "## 결측치 - 성별 : 2, 연령 : 2 (동시에 결측치 1개)"
   ]
  },
  {
   "cell_type": "code",
   "execution_count": 5,
   "metadata": {},
   "outputs": [
    {
     "data": {
      "text/plain": [
       "회원번호           0\n",
       "조합원상태          0\n",
       "주소             0\n",
       "성별             2\n",
       "연령             2\n",
       "배송서비스신청여부      0\n",
       "모바일알람여부        0\n",
       "Gold_member    0\n",
       "구              0\n",
       "동              0\n",
       "dtype: int64"
      ]
     },
     "execution_count": 5,
     "metadata": {},
     "output_type": "execute_result"
    }
   ],
   "source": [
    "mfile.isnull().sum()\n"
   ]
  },
  {
   "cell_type": "code",
   "execution_count": 6,
   "metadata": {},
   "outputs": [
    {
     "data": {
      "text/html": [
       "<div>\n",
       "<style scoped>\n",
       "    .dataframe tbody tr th:only-of-type {\n",
       "        vertical-align: middle;\n",
       "    }\n",
       "\n",
       "    .dataframe tbody tr th {\n",
       "        vertical-align: top;\n",
       "    }\n",
       "\n",
       "    .dataframe thead th {\n",
       "        text-align: right;\n",
       "    }\n",
       "</style>\n",
       "<table border=\"1\" class=\"dataframe\">\n",
       "  <thead>\n",
       "    <tr style=\"text-align: right;\">\n",
       "      <th></th>\n",
       "      <th>회원번호</th>\n",
       "      <th>조합원상태</th>\n",
       "      <th>주소</th>\n",
       "      <th>성별</th>\n",
       "      <th>연령</th>\n",
       "      <th>배송서비스신청여부</th>\n",
       "      <th>모바일알람여부</th>\n",
       "      <th>Gold_member</th>\n",
       "      <th>구</th>\n",
       "      <th>동</th>\n",
       "    </tr>\n",
       "  </thead>\n",
       "  <tbody>\n",
       "    <tr>\n",
       "      <td>5983</td>\n",
       "      <td>383599936</td>\n",
       "      <td>정상회원</td>\n",
       "      <td>기타-기타</td>\n",
       "      <td>여</td>\n",
       "      <td>NaN</td>\n",
       "      <td>미신청</td>\n",
       "      <td>.</td>\n",
       "      <td>normal</td>\n",
       "      <td>기타</td>\n",
       "      <td>기타</td>\n",
       "    </tr>\n",
       "    <tr>\n",
       "      <td>7098</td>\n",
       "      <td>545864448</td>\n",
       "      <td>정상회원</td>\n",
       "      <td>기타-기타</td>\n",
       "      <td>NaN</td>\n",
       "      <td>NaN</td>\n",
       "      <td>미신청</td>\n",
       "      <td>.</td>\n",
       "      <td>normal</td>\n",
       "      <td>기타</td>\n",
       "      <td>기타</td>\n",
       "    </tr>\n",
       "  </tbody>\n",
       "</table>\n",
       "</div>"
      ],
      "text/plain": [
       "           회원번호 조합원상태     주소   성별  연령 배송서비스신청여부 모바일알람여부 Gold_member   구   동\n",
       "5983  383599936  정상회원  기타-기타    여 NaN       미신청       .      normal  기타  기타\n",
       "7098  545864448  정상회원  기타-기타  NaN NaN       미신청       .      normal  기타  기타"
      ]
     },
     "execution_count": 6,
     "metadata": {},
     "output_type": "execute_result"
    }
   ],
   "source": [
    "mfile[mfile['연령'].isnull()]"
   ]
  },
  {
   "cell_type": "code",
   "execution_count": 55,
   "metadata": {},
   "outputs": [
    {
     "data": {
      "text/html": [
       "<div>\n",
       "<style scoped>\n",
       "    .dataframe tbody tr th:only-of-type {\n",
       "        vertical-align: middle;\n",
       "    }\n",
       "\n",
       "    .dataframe tbody tr th {\n",
       "        vertical-align: top;\n",
       "    }\n",
       "\n",
       "    .dataframe thead th {\n",
       "        text-align: right;\n",
       "    }\n",
       "</style>\n",
       "<table border=\"1\" class=\"dataframe\">\n",
       "  <thead>\n",
       "    <tr style=\"text-align: right;\">\n",
       "      <th></th>\n",
       "      <th>회원번호</th>\n",
       "      <th>조합원상태</th>\n",
       "      <th>주소</th>\n",
       "      <th>성별</th>\n",
       "      <th>연령</th>\n",
       "      <th>배송서비스신청여부</th>\n",
       "      <th>모바일알람여부</th>\n",
       "      <th>Gold_member</th>\n",
       "      <th>구</th>\n",
       "      <th>동</th>\n",
       "    </tr>\n",
       "  </thead>\n",
       "  <tbody>\n",
       "    <tr>\n",
       "      <td>3666</td>\n",
       "      <td>1527053696</td>\n",
       "      <td>정상회원</td>\n",
       "      <td>기타-기타</td>\n",
       "      <td>NaN</td>\n",
       "      <td>45.0</td>\n",
       "      <td>미신청</td>\n",
       "      <td>.</td>\n",
       "      <td>normal</td>\n",
       "      <td>기타</td>\n",
       "      <td>기타</td>\n",
       "    </tr>\n",
       "    <tr>\n",
       "      <td>5983</td>\n",
       "      <td>383599936</td>\n",
       "      <td>정상회원</td>\n",
       "      <td>기타-기타</td>\n",
       "      <td>여</td>\n",
       "      <td>NaN</td>\n",
       "      <td>미신청</td>\n",
       "      <td>.</td>\n",
       "      <td>normal</td>\n",
       "      <td>기타</td>\n",
       "      <td>기타</td>\n",
       "    </tr>\n",
       "    <tr>\n",
       "      <td>7098</td>\n",
       "      <td>545864448</td>\n",
       "      <td>정상회원</td>\n",
       "      <td>기타-기타</td>\n",
       "      <td>NaN</td>\n",
       "      <td>NaN</td>\n",
       "      <td>미신청</td>\n",
       "      <td>.</td>\n",
       "      <td>normal</td>\n",
       "      <td>기타</td>\n",
       "      <td>기타</td>\n",
       "    </tr>\n",
       "  </tbody>\n",
       "</table>\n",
       "</div>"
      ],
      "text/plain": [
       "            회원번호 조합원상태     주소   성별    연령 배송서비스신청여부 모바일알람여부 Gold_member   구   동\n",
       "3666  1527053696  정상회원  기타-기타  NaN  45.0       미신청       .      normal  기타  기타\n",
       "5983   383599936  정상회원  기타-기타    여   NaN       미신청       .      normal  기타  기타\n",
       "7098   545864448  정상회원  기타-기타  NaN   NaN       미신청       .      normal  기타  기타"
      ]
     },
     "execution_count": 55,
     "metadata": {},
     "output_type": "execute_result"
    }
   ],
   "source": [
    "mfile[mfile['연령'].isnull() | mfile['성별'].isnull()]"
   ]
  },
  {
   "cell_type": "code",
   "execution_count": 39,
   "metadata": {},
   "outputs": [
    {
     "data": {
      "text/html": [
       "<div>\n",
       "<style scoped>\n",
       "    .dataframe tbody tr th:only-of-type {\n",
       "        vertical-align: middle;\n",
       "    }\n",
       "\n",
       "    .dataframe tbody tr th {\n",
       "        vertical-align: top;\n",
       "    }\n",
       "\n",
       "    .dataframe thead th {\n",
       "        text-align: right;\n",
       "    }\n",
       "</style>\n",
       "<table border=\"1\" class=\"dataframe\">\n",
       "  <thead>\n",
       "    <tr style=\"text-align: right;\">\n",
       "      <th></th>\n",
       "      <th>회원번호</th>\n",
       "      <th>조합원상태</th>\n",
       "      <th>주소</th>\n",
       "      <th>성별</th>\n",
       "      <th>연령</th>\n",
       "      <th>배송서비스신청여부</th>\n",
       "      <th>모바일알람여부</th>\n",
       "      <th>Gold_member</th>\n",
       "      <th>구</th>\n",
       "      <th>동</th>\n",
       "    </tr>\n",
       "  </thead>\n",
       "  <tbody>\n",
       "    <tr>\n",
       "      <td>9</td>\n",
       "      <td>1000577024</td>\n",
       "      <td>정상회원</td>\n",
       "      <td>기타-기타</td>\n",
       "      <td>여</td>\n",
       "      <td>47.0</td>\n",
       "      <td>미신청</td>\n",
       "      <td>.</td>\n",
       "      <td>normal</td>\n",
       "      <td>기타</td>\n",
       "      <td>기타</td>\n",
       "    </tr>\n",
       "    <tr>\n",
       "      <td>24</td>\n",
       "      <td>1001776000</td>\n",
       "      <td>정상회원</td>\n",
       "      <td>기타-기타</td>\n",
       "      <td>남</td>\n",
       "      <td>57.0</td>\n",
       "      <td>미신청</td>\n",
       "      <td>.</td>\n",
       "      <td>normal</td>\n",
       "      <td>기타</td>\n",
       "      <td>기타</td>\n",
       "    </tr>\n",
       "    <tr>\n",
       "      <td>32</td>\n",
       "      <td>1003019520</td>\n",
       "      <td>정상회원</td>\n",
       "      <td>기타-기타</td>\n",
       "      <td>여</td>\n",
       "      <td>72.0</td>\n",
       "      <td>미신청</td>\n",
       "      <td>.</td>\n",
       "      <td>normal</td>\n",
       "      <td>기타</td>\n",
       "      <td>기타</td>\n",
       "    </tr>\n",
       "    <tr>\n",
       "      <td>33</td>\n",
       "      <td>1003088192</td>\n",
       "      <td>정상회원</td>\n",
       "      <td>기타-기타</td>\n",
       "      <td>여</td>\n",
       "      <td>66.0</td>\n",
       "      <td>미신청</td>\n",
       "      <td>.</td>\n",
       "      <td>normal</td>\n",
       "      <td>기타</td>\n",
       "      <td>기타</td>\n",
       "    </tr>\n",
       "    <tr>\n",
       "      <td>69</td>\n",
       "      <td>1006670272</td>\n",
       "      <td>정상회원</td>\n",
       "      <td>기타-기타</td>\n",
       "      <td>여</td>\n",
       "      <td>72.0</td>\n",
       "      <td>미신청</td>\n",
       "      <td>.</td>\n",
       "      <td>normal</td>\n",
       "      <td>기타</td>\n",
       "      <td>기타</td>\n",
       "    </tr>\n",
       "    <tr>\n",
       "      <td>...</td>\n",
       "      <td>...</td>\n",
       "      <td>...</td>\n",
       "      <td>...</td>\n",
       "      <td>...</td>\n",
       "      <td>...</td>\n",
       "      <td>...</td>\n",
       "      <td>...</td>\n",
       "      <td>...</td>\n",
       "      <td>...</td>\n",
       "      <td>...</td>\n",
       "    </tr>\n",
       "    <tr>\n",
       "      <td>11493</td>\n",
       "      <td>994387264</td>\n",
       "      <td>정상회원</td>\n",
       "      <td>기타-기타</td>\n",
       "      <td>여</td>\n",
       "      <td>37.0</td>\n",
       "      <td>미신청</td>\n",
       "      <td>.</td>\n",
       "      <td>normal</td>\n",
       "      <td>기타</td>\n",
       "      <td>기타</td>\n",
       "    </tr>\n",
       "    <tr>\n",
       "      <td>11519</td>\n",
       "      <td>998470464</td>\n",
       "      <td>정상회원</td>\n",
       "      <td>기타-기타</td>\n",
       "      <td>여</td>\n",
       "      <td>42.0</td>\n",
       "      <td>미신청</td>\n",
       "      <td>.</td>\n",
       "      <td>normal</td>\n",
       "      <td>기타</td>\n",
       "      <td>기타</td>\n",
       "    </tr>\n",
       "    <tr>\n",
       "      <td>11538</td>\n",
       "      <td>999398464</td>\n",
       "      <td>정상회원</td>\n",
       "      <td>기타-기타</td>\n",
       "      <td>여</td>\n",
       "      <td>54.0</td>\n",
       "      <td>미신청</td>\n",
       "      <td>.</td>\n",
       "      <td>normal</td>\n",
       "      <td>기타</td>\n",
       "      <td>기타</td>\n",
       "    </tr>\n",
       "    <tr>\n",
       "      <td>11539</td>\n",
       "      <td>999474560</td>\n",
       "      <td>정상회원</td>\n",
       "      <td>기타-기타</td>\n",
       "      <td>여</td>\n",
       "      <td>40.0</td>\n",
       "      <td>미신청</td>\n",
       "      <td>.</td>\n",
       "      <td>normal</td>\n",
       "      <td>기타</td>\n",
       "      <td>기타</td>\n",
       "    </tr>\n",
       "    <tr>\n",
       "      <td>11549</td>\n",
       "      <td>999654592</td>\n",
       "      <td>정상회원</td>\n",
       "      <td>기타-기타</td>\n",
       "      <td>여</td>\n",
       "      <td>47.0</td>\n",
       "      <td>미신청</td>\n",
       "      <td>.</td>\n",
       "      <td>normal</td>\n",
       "      <td>기타</td>\n",
       "      <td>기타</td>\n",
       "    </tr>\n",
       "  </tbody>\n",
       "</table>\n",
       "<p>1126 rows × 10 columns</p>\n",
       "</div>"
      ],
      "text/plain": [
       "             회원번호 조합원상태     주소 성별    연령 배송서비스신청여부 모바일알람여부 Gold_member   구   동\n",
       "9      1000577024  정상회원  기타-기타  여  47.0       미신청       .      normal  기타  기타\n",
       "24     1001776000  정상회원  기타-기타  남  57.0       미신청       .      normal  기타  기타\n",
       "32     1003019520  정상회원  기타-기타  여  72.0       미신청       .      normal  기타  기타\n",
       "33     1003088192  정상회원  기타-기타  여  66.0       미신청       .      normal  기타  기타\n",
       "69     1006670272  정상회원  기타-기타  여  72.0       미신청       .      normal  기타  기타\n",
       "...           ...   ...    ... ..   ...       ...     ...         ...  ..  ..\n",
       "11493   994387264  정상회원  기타-기타  여  37.0       미신청       .      normal  기타  기타\n",
       "11519   998470464  정상회원  기타-기타  여  42.0       미신청       .      normal  기타  기타\n",
       "11538   999398464  정상회원  기타-기타  여  54.0       미신청       .      normal  기타  기타\n",
       "11539   999474560  정상회원  기타-기타  여  40.0       미신청       .      normal  기타  기타\n",
       "11549   999654592  정상회원  기타-기타  여  47.0       미신청       .      normal  기타  기타\n",
       "\n",
       "[1126 rows x 10 columns]"
      ]
     },
     "execution_count": 39,
     "metadata": {},
     "output_type": "execute_result"
    }
   ],
   "source": [
    "mfile[mfile['주소'] == \"기타-기타\"]"
   ]
  },
  {
   "cell_type": "code",
   "execution_count": 41,
   "metadata": {},
   "outputs": [
    {
     "data": {
      "text/plain": [
       "정상회원     11413\n",
       "탈퇴         139\n",
       "탈퇴처리중        2\n",
       "탈퇴신청         1\n",
       "Name: 조합원상태, dtype: int64"
      ]
     },
     "execution_count": 41,
     "metadata": {},
     "output_type": "execute_result"
    }
   ],
   "source": [
    "mfile['조합원상태'].value_counts()"
   ]
  },
  {
   "cell_type": "code",
   "execution_count": 42,
   "metadata": {},
   "outputs": [
    {
     "data": {
      "text/plain": [
       "normal    1123\n",
       "VIP          3\n",
       "Name: Gold_member, dtype: int64"
      ]
     },
     "execution_count": 42,
     "metadata": {},
     "output_type": "execute_result"
    }
   ],
   "source": [
    "mfile[mfile['주소'] == \"기타-기타\"]['Gold_member'].value_counts()"
   ]
  },
  {
   "cell_type": "code",
   "execution_count": null,
   "metadata": {},
   "outputs": [],
   "source": []
  },
  {
   "cell_type": "markdown",
   "metadata": {},
   "source": [
    "# 온라인이용 젊은편"
   ]
  },
  {
   "cell_type": "code",
   "execution_count": 57,
   "metadata": {},
   "outputs": [
    {
     "data": {
      "text/plain": [
       ".     10653\n",
       "수신      902\n",
       "Name: 모바일알람여부, dtype: int64"
      ]
     },
     "execution_count": 57,
     "metadata": {},
     "output_type": "execute_result"
    }
   ],
   "source": [
    "mfile['모바일알람여부'].value_counts()"
   ]
  },
  {
   "cell_type": "code",
   "execution_count": 58,
   "metadata": {},
   "outputs": [
    {
     "data": {
      "text/plain": [
       "{'whiskers': [<matplotlib.lines.Line2D at 0x7fba4d89dc50>,\n",
       "  <matplotlib.lines.Line2D at 0x7fba4dbd4150>],\n",
       " 'caps': [<matplotlib.lines.Line2D at 0x7fba4dbd4390>,\n",
       "  <matplotlib.lines.Line2D at 0x7fba4dbd4890>],\n",
       " 'boxes': [<matplotlib.lines.Line2D at 0x7fba4dbbb550>],\n",
       " 'medians': [<matplotlib.lines.Line2D at 0x7fba4dbdd110>],\n",
       " 'fliers': [<matplotlib.lines.Line2D at 0x7fba4dbdd2d0>],\n",
       " 'means': []}"
      ]
     },
     "execution_count": 58,
     "metadata": {},
     "output_type": "execute_result"
    },
    {
     "data": {
      "image/png": "[encoded data removed]",
      "text/plain": [
       "<Figure size 432x288 with 1 Axes>"
      ]
     },
     "metadata": {
      "needs_background": "light"
     },
     "output_type": "display_data"
    }
   ],
   "source": [
    "plt.boxplot(mfile[mfile['모바일알람여부'] == \"수신\"]['연령'])"
   ]
  },
  {
   "cell_type": "code",
   "execution_count": 72,
   "metadata": {},
   "outputs": [
    {
     "data": {
      "text/plain": [
       "10653"
      ]
     },
     "execution_count": 72,
     "metadata": {},
     "output_type": "execute_result"
    }
   ],
   "source": [
    "m = mfile[mfile['모바일알람여부']==\".\"]\n",
    "len(m)"
   ]
  },
  {
   "cell_type": "code",
   "execution_count": 75,
   "metadata": {},
   "outputs": [
    {
     "data": {
      "text/plain": [
       "count    10651.000000\n",
       "mean        49.891184\n",
       "std         11.726912\n",
       "min         17.000000\n",
       "25%         41.000000\n",
       "50%         48.000000\n",
       "75%         57.000000\n",
       "max        108.000000\n",
       "Name: 연령, dtype: float64"
      ]
     },
     "execution_count": 75,
     "metadata": {},
     "output_type": "execute_result"
    }
   ],
   "source": [
    "# 모바일알람을 이용하지 않는 고객들의 연령대 분포\n",
    "no_mobile = mfile[mfile['모바일알람여부']==\".\"]\n",
    "no_mobile['연령'].describe()"
   ]
  },
  {
   "cell_type": "code",
   "execution_count": 76,
   "metadata": {},
   "outputs": [
    {
     "data": {
      "text/plain": [
       "count    902.000000\n",
       "mean      47.496674\n",
       "std        9.137954\n",
       "min       30.000000\n",
       "25%       41.000000\n",
       "50%       47.000000\n",
       "75%       52.000000\n",
       "max       91.000000\n",
       "Name: 연령, dtype: float64"
      ]
     },
     "execution_count": 76,
     "metadata": {},
     "output_type": "execute_result"
    }
   ],
   "source": [
    "# 모바일알람을 이용하는 고객들의 연령대 분포\n",
    "mobile = mfile[mfile['모바일알람여부'] == \"수신\"]\n",
    "mobile['연령'].describe()"
   ]
  },
  {
   "cell_type": "code",
   "execution_count": 78,
   "metadata": {},
   "outputs": [
    {
     "data": {
      "text/plain": [
       "<matplotlib.axes._subplots.AxesSubplot at 0x7fba4cd6ccd0>"
      ]
     },
     "execution_count": 78,
     "metadata": {},
     "output_type": "execute_result"
    },
    {
     "data": {
      "image/png": "[encoded data removed]",
      "text/plain": [
       "<Figure size 432x288 with 1 Axes>"
      ]
     },
     "metadata": {
      "needs_background": "light"
     },
     "output_type": "display_data"
    }
   ],
   "source": [
    "sns.boxplot(mobile['연령'])"
   ]
  },
  {
   "cell_type": "code",
   "execution_count": 77,
   "metadata": {},
   "outputs": [
    {
     "data": {
      "text/plain": [
       "<matplotlib.axes._subplots.AxesSubplot at 0x7fba4d0d7ed0>"
      ]
     },
     "execution_count": 77,
     "metadata": {},
     "output_type": "execute_result"
    },
    {
     "data": {
      "image/png": "[encoded data removed]",
      "text/plain": [
       "<Figure size 432x288 with 1 Axes>"
      ]
     },
     "metadata": {
      "needs_background": "light"
     },
     "output_type": "display_data"
    }
   ],
   "source": [
    "sns.boxplot(no_mobile['연령'])"
   ]
  },
  {
   "cell_type": "code",
   "execution_count": null,
   "metadata": {},
   "outputs": [],
   "source": [
    "번호\t조합원상태\t주소\t성별\t연령\t배송서비스신청여부\t모바일알람여부\tGold_member\t구\t동\n",
    "9\t1000577024\t정상회원\t기타-기타\t여\t47.0\t미신청\t.\tnormal\t기타\t기타\n",
    "24\t1001776000\t정상회원\t기타-기타\t남\t57.0\t미신청\t.\tnormal\t기타\t기타\n",
    "32\t1003019520\t정상회원\t기타-기타\t여\t72.0\t미신청\t.\tnormal\t기타\t기타\n",
    "33\t1003088192\t정상회원\t기타-기타\t여\t66.0\t미신청\t.\tnormal\t기타\t기타\n",
    "69\t1006670272\t정상회원\t기타-기타\t여\t72.0\t미신청\t.\tnormal\t기타\t기타\n",
    "...\t...\t...\t...\t...\t...\t...\t...\t...\t...\t...\n",
    "11493\t994387264\t정상회원\t기타-기타\t여\t37.0\t미신청\t.\tnormal\t기타\t기타\n",
    "11519\t998470464\t정상회원\t기타-기타\t여\t42.0\t미신청\t.\tnormal\t기타\t기타\n",
    "11538\t999398464\t정상회원\t기타-기타\t여\t54.0\t미신청\t.\tnormal\t기타\t기타\n",
    "11539\t999474560\t정상회원\t기타-기타\t여\t40.0\t미신청\t.\tnormal\t기타\t기타\n",
    "11549\t999654592\t정상회원\t기타-기타\t여\t47.0\t미신청\t.\tnormal\t기타\t기타\n",
    "1126 rows × 10 columns\n",
    "\n",
    "In [41]:\n",
    "￼\n",
    "mfile['조합원상태'].value_counts()"
   ]
  },
  {
   "cell_type": "code",
   "execution_count": null,
   "metadata": {},
   "outputs": [],
   "source": []
  },
  {
   "cell_type": "code",
   "execution_count": null,
   "metadata": {},
   "outputs": [],
   "source": []
  },
  {
   "cell_type": "code",
   "execution_count": null,
   "metadata": {},
   "outputs": [],
   "source": []
  },
  {
   "cell_type": "code",
   "execution_count": null,
   "metadata": {},
   "outputs": [],
   "source": []
  },
  {
   "cell_type": "code",
   "execution_count": 7,
   "metadata": {},
   "outputs": [
    {
     "data": {
      "text/plain": [
       "<matplotlib.axes._subplots.AxesSubplot at 0x7fba51008550>"
      ]
     },
     "execution_count": 7,
     "metadata": {},
     "output_type": "execute_result"
    },
    {
     "data": {
      "image/png": "[encoded data removed]",
      "text/plain": [
       "<Figure size 432x288 with 1 Axes>"
      ]
     },
     "metadata": {
      "needs_background": "light"
     },
     "output_type": "display_data"
    }
   ],
   "source": [
    "mfile.boxplot()"
   ]
  },
  {
   "cell_type": "code",
   "execution_count": 8,
   "metadata": {
    "scrolled": true
   },
   "outputs": [
    {
     "data": {
      "text/plain": [
       "수지구       8198\n",
       "기타        1149\n",
       "기흥구        696\n",
       "분당구        670\n",
       "수원 영통구     216\n",
       "서울 강남구     173\n",
       "서울 송파구      95\n",
       "화성          78\n",
       "처인구         74\n",
       "광주          73\n",
       "수원 장안구      30\n",
       "수정구         24\n",
       "중원구         24\n",
       "수원 팔달구      23\n",
       "수원 권선구      18\n",
       "하남          14\n",
       "Name: 구, dtype: int64"
      ]
     },
     "execution_count": 8,
     "metadata": {},
     "output_type": "execute_result"
    }
   ],
   "source": [
    "mfile['구'].value_counts()"
   ]
  },
  {
   "cell_type": "code",
   "execution_count": 10,
   "metadata": {
    "scrolled": true
   },
   "outputs": [
    {
     "data": {
      "text/plain": [
       "풍덕천동    3188\n",
       "기타      1925\n",
       "상현동     1601\n",
       "신봉동     1422\n",
       "동천동      925\n",
       "성복동      735\n",
       "죽전동      261\n",
       "보정동      259\n",
       "정자동      130\n",
       "구미동       89\n",
       "판교동       82\n",
       "중동        69\n",
       "마북동       63\n",
       "신갈동       61\n",
       "수내동       60\n",
       "영덕동       59\n",
       "서현동       51\n",
       "언남동       49\n",
       "야탑동       45\n",
       "백현동       44\n",
       "동백동       38\n",
       "금곡동       35\n",
       "이매동       31\n",
       "오포읍       31\n",
       "분당동       31\n",
       "삼평동       29\n",
       "보라동       25\n",
       "청덕동       25\n",
       "상하동       21\n",
       "상갈동       15\n",
       "Name: 동, dtype: int64"
      ]
     },
     "execution_count": 10,
     "metadata": {},
     "output_type": "execute_result"
    }
   ],
   "source": [
    "mfile['동'].value_counts().head(30)"
   ]
  },
  {
   "cell_type": "code",
   "execution_count": 12,
   "metadata": {},
   "outputs": [
    {
     "data": {
      "text/plain": [
       "수지구-풍덕천동    3188\n",
       "수지구-상현동     1601\n",
       "수지구-신봉동     1422\n",
       "기타-기타       1126\n",
       "수지구-동천동      924\n",
       "            ... \n",
       "기타-성남동         1\n",
       "기타-신흥동         1\n",
       "중원구-은행동        1\n",
       "기타-금곡동         1\n",
       "수정구-복정동        1\n",
       "Name: 주소, Length: 95, dtype: int64"
      ]
     },
     "execution_count": 12,
     "metadata": {},
     "output_type": "execute_result"
    }
   ],
   "source": [
    "mfile['주소'].value_counts()"
   ]
  },
  {
   "cell_type": "markdown",
   "metadata": {},
   "source": [
    "# 주소마다 거리를 계산해 값으로 넣어주고 싶지만 어느 지점인지 안나와 있으므로 지점마다 가장 많이 나오는 동으로 지점을 임의로 정해주기로 한다"
   ]
  },
  {
   "cell_type": "code",
   "execution_count": null,
   "metadata": {},
   "outputs": [],
   "source": [
    "dt1 = pd.read_csv('product_data_01.csv')\n",
    "dt2 = pd.read_csv('product_data_02.csv')\n",
    "dt3 = pd.read_csv('product_data_03.csv')\n",
    "dt4 = pd.read_csv('product_data_04.csv')\n"
   ]
  },
  {
   "cell_type": "code",
   "execution_count": 15,
   "metadata": {
    "scrolled": true
   },
   "outputs": [
    {
     "data": {
      "text/html": [
       "<div>\n",
       "<style scoped>\n",
       "    .dataframe tbody tr th:only-of-type {\n",
       "        vertical-align: middle;\n",
       "    }\n",
       "\n",
       "    .dataframe tbody tr th {\n",
       "        vertical-align: top;\n",
       "    }\n",
       "\n",
       "    .dataframe thead th {\n",
       "        text-align: right;\n",
       "    }\n",
       "</style>\n",
       "<table border=\"1\" class=\"dataframe\">\n",
       "  <thead>\n",
       "    <tr style=\"text-align: right;\">\n",
       "      <th></th>\n",
       "      <th>공급일자</th>\n",
       "      <th>회원번호</th>\n",
       "      <th>조합원상태</th>\n",
       "      <th>물품대분류</th>\n",
       "      <th>물품중분류</th>\n",
       "      <th>물품소분류</th>\n",
       "      <th>물품명</th>\n",
       "      <th>구매수량</th>\n",
       "      <th>구매금액</th>\n",
       "      <th>구매매장</th>\n",
       "      <th>반품_원거래일자</th>\n",
       "      <th>구매시각</th>\n",
       "    </tr>\n",
       "  </thead>\n",
       "  <tbody>\n",
       "    <tr>\n",
       "      <td>0</td>\n",
       "      <td>2018-01-02</td>\n",
       "      <td>272369856</td>\n",
       "      <td>정상회원</td>\n",
       "      <td>과실</td>\n",
       "      <td>과일</td>\n",
       "      <td>사과</td>\n",
       "      <td>사과/유(1.5kg)</td>\n",
       "      <td>1.0</td>\n",
       "      <td>22207.0</td>\n",
       "      <td>매장C</td>\n",
       "      <td>NaN</td>\n",
       "      <td>10:04</td>\n",
       "    </tr>\n",
       "    <tr>\n",
       "      <td>1</td>\n",
       "      <td>2018-01-02</td>\n",
       "      <td>1476143616</td>\n",
       "      <td>정상회원</td>\n",
       "      <td>간식</td>\n",
       "      <td>빵</td>\n",
       "      <td>식빵, 식사대용</td>\n",
       "      <td>아침빵(240g/8개)/매장</td>\n",
       "      <td>1.0</td>\n",
       "      <td>4403.0</td>\n",
       "      <td>매장C</td>\n",
       "      <td>NaN</td>\n",
       "      <td>10:09</td>\n",
       "    </tr>\n",
       "    <tr>\n",
       "      <td>2</td>\n",
       "      <td>2018-01-02</td>\n",
       "      <td>743192512</td>\n",
       "      <td>정상회원</td>\n",
       "      <td>채소</td>\n",
       "      <td>양념채소</td>\n",
       "      <td>생강</td>\n",
       "      <td>생강(300g)</td>\n",
       "      <td>1.0</td>\n",
       "      <td>7083.0</td>\n",
       "      <td>매장C</td>\n",
       "      <td>NaN</td>\n",
       "      <td>10:12</td>\n",
       "    </tr>\n",
       "    <tr>\n",
       "      <td>3</td>\n",
       "      <td>2018-01-02</td>\n",
       "      <td>176912064</td>\n",
       "      <td>정상회원</td>\n",
       "      <td>축산물</td>\n",
       "      <td>유제품</td>\n",
       "      <td>우유/산양유</td>\n",
       "      <td>유기농저지방우유(종이팩/900ml)</td>\n",
       "      <td>1.0</td>\n",
       "      <td>7849.0</td>\n",
       "      <td>매장C</td>\n",
       "      <td>NaN</td>\n",
       "      <td>10:23</td>\n",
       "    </tr>\n",
       "    <tr>\n",
       "      <td>4</td>\n",
       "      <td>2018-01-02</td>\n",
       "      <td>87592064</td>\n",
       "      <td>정상회원</td>\n",
       "      <td>양념/가루</td>\n",
       "      <td>가루</td>\n",
       "      <td>양념가루</td>\n",
       "      <td>카레(매운맛: 100g)</td>\n",
       "      <td>3.0</td>\n",
       "      <td>15507.0</td>\n",
       "      <td>매장C</td>\n",
       "      <td>NaN</td>\n",
       "      <td>10:29</td>\n",
       "    </tr>\n",
       "  </tbody>\n",
       "</table>\n",
       "</div>"
      ],
      "text/plain": [
       "         공급일자        회원번호 조합원상태  물품대분류 물품중분류     물품소분류                  물품명  \\\n",
       "0  2018-01-02   272369856  정상회원     과실    과일        사과          사과/유(1.5kg)   \n",
       "1  2018-01-02  1476143616  정상회원     간식     빵  식빵, 식사대용      아침빵(240g/8개)/매장   \n",
       "2  2018-01-02   743192512  정상회원     채소  양념채소        생강             생강(300g)   \n",
       "3  2018-01-02   176912064  정상회원    축산물   유제품    우유/산양유  유기농저지방우유(종이팩/900ml)   \n",
       "4  2018-01-02    87592064  정상회원  양념/가루    가루      양념가루        카레(매운맛: 100g)   \n",
       "\n",
       "   구매수량     구매금액 구매매장  반품_원거래일자   구매시각  \n",
       "0   1.0  22207.0  매장C       NaN  10:04  \n",
       "1   1.0   4403.0  매장C       NaN  10:09  \n",
       "2   1.0   7083.0  매장C       NaN  10:12  \n",
       "3   1.0   7849.0  매장C       NaN  10:23  \n",
       "4   3.0  15507.0  매장C       NaN  10:29  "
      ]
     },
     "execution_count": 15,
     "metadata": {},
     "output_type": "execute_result"
    }
   ],
   "source": [
    "dt1.head()"
   ]
  },
  {
   "cell_type": "code",
   "execution_count": null,
   "metadata": {},
   "outputs": [],
   "source": []
  },
  {
   "cell_type": "code",
   "execution_count": null,
   "metadata": {},
   "outputs": [],
   "source": [
    "# 조합원상태가 겹치므로 제거하고 merging해주기\n",
    "mfile_abstract_johapwon = mfile.drop(['조합원상태'], axis = 1, inplace = False)"
   ]
  },
  {
   "cell_type": "code",
   "execution_count": 30,
   "metadata": {},
   "outputs": [],
   "source": [
    "# 조합원상태가 겹치므로 제거하고 merging해주기\n",
    "mfile_abstract_johapwon = mfile.drop(['조합원상태'], axis = 1, inplace = False)\n",
    "\n",
    "dt1_merge = pd.merge(dt1, mfile_abstract_johapwon, on = '회원번호', how = 'left')\n",
    "dt2_merge = pd.merge(dt2, mfile_abstract_johapwon, on = '회원번호', how = 'left')\n",
    "dt3_merge = pd.merge(dt3, mfile_abstract_johapwon, on = '회원번호', how = 'left')\n",
    "dt4_merge = pd.merge(dt4, mfile_abstract_johapwon, on = '회원번호', how = 'left')"
   ]
  },
  {
   "cell_type": "code",
   "execution_count": 31,
   "metadata": {},
   "outputs": [
    {
     "name": "stdout",
     "output_type": "stream",
     "text": [
      "0\n",
      "0\n",
      "0\n",
      "0\n"
     ]
    }
   ],
   "source": [
    "print(dt1_merge['주소'].isnull().sum())\n",
    "print(dt2_merge['주소'].isnull().sum())\n",
    "print(dt3_merge['주소'].isnull().sum())\n",
    "print(dt4_merge['주소'].isnull().sum())\n"
   ]
  },
  {
   "cell_type": "code",
   "execution_count": 22,
   "metadata": {},
   "outputs": [
    {
     "data": {
      "text/plain": [
       "수지구-풍덕천동    83625\n",
       "수지구-성복동      9455\n",
       "수지구-상현동      6369\n",
       "수지구-신봉동      6121\n",
       "기타-기타        4362\n",
       "            ...  \n",
       "처인구-김량장동        3\n",
       "하남-위례동          2\n",
       "기타-신흥동          2\n",
       "기흥구-서천동         1\n",
       "광주-산성동          1\n",
       "Name: 주소, Length: 77, dtype: int64"
      ]
     },
     "execution_count": 22,
     "metadata": {},
     "output_type": "execute_result"
    }
   ],
   "source": [
    "dt1_merge['주소'].value_counts()"
   ]
  },
  {
   "cell_type": "code",
   "execution_count": 23,
   "metadata": {},
   "outputs": [
    {
     "data": {
      "text/plain": [
       "수지구-신봉동     37104\n",
       "수지구-성복동      8104\n",
       "기타-기타        2043\n",
       "수지구-풍덕천동     1644\n",
       "수지구-상현동      1381\n",
       "            ...  \n",
       "기흥구-구갈동         2\n",
       "화성-보라동          2\n",
       "광주-산성동          1\n",
       "처인구-고림동         1\n",
       "수정구-단대동         1\n",
       "Name: 주소, Length: 62, dtype: int64"
      ]
     },
     "execution_count": 23,
     "metadata": {},
     "output_type": "execute_result"
    }
   ],
   "source": [
    "dt2_merge['주소'].value_counts()"
   ]
  },
  {
   "cell_type": "code",
   "execution_count": 24,
   "metadata": {},
   "outputs": [
    {
     "data": {
      "text/plain": [
       "수지구-상현동       34276\n",
       "수지구-풍덕천동      12287\n",
       "기흥구-보정동        4401\n",
       "수지구-성복동        4144\n",
       "기타-기타          1850\n",
       "              ...  \n",
       "중원구-성남동           2\n",
       "기타-성남동            1\n",
       "서울 강남구-은행동        1\n",
       "처인구-원삼면           1\n",
       "광주-산성동            1\n",
       "Name: 주소, Length: 72, dtype: int64"
      ]
     },
     "execution_count": 24,
     "metadata": {},
     "output_type": "execute_result"
    }
   ],
   "source": [
    "dt3_merge['주소'].value_counts()"
   ]
  },
  {
   "cell_type": "code",
   "execution_count": 25,
   "metadata": {},
   "outputs": [
    {
     "data": {
      "text/plain": [
       "수지구-동천동     28727\n",
       "수지구-풍덕천동     9022\n",
       "기타-기타        2101\n",
       "수지구-기타       2022\n",
       "수지구-신봉동      1224\n",
       "            ...  \n",
       "처인구-고림동         2\n",
       "수정구-기타          1\n",
       "수정구-신흥동         1\n",
       "수정구-태평동         1\n",
       "광주-산성동          1\n",
       "Name: 주소, Length: 73, dtype: int64"
      ]
     },
     "execution_count": 25,
     "metadata": {},
     "output_type": "execute_result"
    }
   ],
   "source": [
    "dt4_merge['주소'].value_counts()"
   ]
  },
  {
   "cell_type": "markdown",
   "metadata": {},
   "source": [
    "## dt1 = 한살림 수지매장(풍덕천동)\n",
    "## dt2 = 한살림 신봉매장\n",
    "## dt3 = 한살림 상현매장\n",
    "## dt4 = 한살림 동천매장"
   ]
  },
  {
   "cell_type": "code",
   "execution_count": 32,
   "metadata": {},
   "outputs": [],
   "source": [
    "dt1_merge.to_csv('수지매장.csv', encoding = 'utf-8')\n",
    "dt2_merge.to_csv('신봉매장.csv', encoding = 'utf-8')\n",
    "dt3_merge.to_csv('상현매장.csv', encoding = 'utf-8')\n",
    "dt4_merge.to_csv('동천매장.csv', encoding = 'utf-8')\n"
   ]
  },
  {
   "cell_type": "code",
   "execution_count": 44,
   "metadata": {},
   "outputs": [],
   "source": [
    "dt4_distance = pd.DataFrame({'위치' : dt4_merge['주소'].unique()})\n",
    "dt3_distance = pd.DataFrame({'위치' : dt3_merge['주소'].unique()})\n",
    "dt2_distance = pd.DataFrame({'위치' : dt2_merge['주소'].unique()})\n",
    "dt1_distance = pd.DataFrame({'위치' : dt1_merge['주소'].unique()})\n",
    "\n",
    "dt4_distance.to_csv('동천매장_거리.csv', encoding = 'utf-8')\n",
    "dt3_distance.to_csv('상현매장_거리.csv', encoding = 'utf-8')\n",
    "dt2_distance.to_csv('신봉매장_거리.csv', encoding = 'utf-8')\n",
    "dt1_distance.to_csv('수지매장_거리.csv', encoding = 'utf-8')"
   ]
  },
  {
   "cell_type": "code",
   "execution_count": 45,
   "metadata": {
    "scrolled": true
   },
   "outputs": [
    {
     "data": {
      "text/html": [
       "<div>\n",
       "<style scoped>\n",
       "    .dataframe tbody tr th:only-of-type {\n",
       "        vertical-align: middle;\n",
       "    }\n",
       "\n",
       "    .dataframe tbody tr th {\n",
       "        vertical-align: top;\n",
       "    }\n",
       "\n",
       "    .dataframe thead th {\n",
       "        text-align: right;\n",
       "    }\n",
       "</style>\n",
       "<table border=\"1\" class=\"dataframe\">\n",
       "  <thead>\n",
       "    <tr style=\"text-align: right;\">\n",
       "      <th></th>\n",
       "      <th>위치</th>\n",
       "    </tr>\n",
       "  </thead>\n",
       "  <tbody>\n",
       "    <tr>\n",
       "      <td>33</td>\n",
       "      <td>분당구-삼평동</td>\n",
       "    </tr>\n",
       "    <tr>\n",
       "      <td>34</td>\n",
       "      <td>기흥구-청덕동</td>\n",
       "    </tr>\n",
       "    <tr>\n",
       "      <td>35</td>\n",
       "      <td>중원구-여수동</td>\n",
       "    </tr>\n",
       "    <tr>\n",
       "      <td>36</td>\n",
       "      <td>기흥구-신갈동</td>\n",
       "    </tr>\n",
       "    <tr>\n",
       "      <td>37</td>\n",
       "      <td>기흥구-상갈동</td>\n",
       "    </tr>\n",
       "    <tr>\n",
       "      <td>38</td>\n",
       "      <td>기흥구-영덕동</td>\n",
       "    </tr>\n",
       "    <tr>\n",
       "      <td>39</td>\n",
       "      <td>수정구-복정동</td>\n",
       "    </tr>\n",
       "    <tr>\n",
       "      <td>40</td>\n",
       "      <td>분당구-백현동</td>\n",
       "    </tr>\n",
       "    <tr>\n",
       "      <td>41</td>\n",
       "      <td>하남-기타</td>\n",
       "    </tr>\n",
       "    <tr>\n",
       "      <td>42</td>\n",
       "      <td>화성-기타</td>\n",
       "    </tr>\n",
       "    <tr>\n",
       "      <td>43</td>\n",
       "      <td>광주-기타</td>\n",
       "    </tr>\n",
       "    <tr>\n",
       "      <td>44</td>\n",
       "      <td>중원구-도촌동</td>\n",
       "    </tr>\n",
       "    <tr>\n",
       "      <td>45</td>\n",
       "      <td>수원 권선구-기타</td>\n",
       "    </tr>\n",
       "    <tr>\n",
       "      <td>46</td>\n",
       "      <td>기흥구-구갈동</td>\n",
       "    </tr>\n",
       "    <tr>\n",
       "      <td>47</td>\n",
       "      <td>처인구-고림동</td>\n",
       "    </tr>\n",
       "    <tr>\n",
       "      <td>48</td>\n",
       "      <td>처인구-역북동</td>\n",
       "    </tr>\n",
       "    <tr>\n",
       "      <td>49</td>\n",
       "      <td>기흥구-상하동</td>\n",
       "    </tr>\n",
       "    <tr>\n",
       "      <td>50</td>\n",
       "      <td>광주-산성동</td>\n",
       "    </tr>\n",
       "    <tr>\n",
       "      <td>51</td>\n",
       "      <td>기흥구-마북동</td>\n",
       "    </tr>\n",
       "    <tr>\n",
       "      <td>52</td>\n",
       "      <td>기흥구-지곡동</td>\n",
       "    </tr>\n",
       "    <tr>\n",
       "      <td>53</td>\n",
       "      <td>중원구-성남동</td>\n",
       "    </tr>\n",
       "    <tr>\n",
       "      <td>54</td>\n",
       "      <td>기흥구-기타</td>\n",
       "    </tr>\n",
       "    <tr>\n",
       "      <td>55</td>\n",
       "      <td>중원구-산성동</td>\n",
       "    </tr>\n",
       "    <tr>\n",
       "      <td>56</td>\n",
       "      <td>처인구-원삼면</td>\n",
       "    </tr>\n",
       "    <tr>\n",
       "      <td>57</td>\n",
       "      <td>수원 팔달구-기타</td>\n",
       "    </tr>\n",
       "    <tr>\n",
       "      <td>58</td>\n",
       "      <td>처인구-삼가동</td>\n",
       "    </tr>\n",
       "    <tr>\n",
       "      <td>59</td>\n",
       "      <td>처인구-기타</td>\n",
       "    </tr>\n",
       "    <tr>\n",
       "      <td>60</td>\n",
       "      <td>처인구-이동면</td>\n",
       "    </tr>\n",
       "    <tr>\n",
       "      <td>61</td>\n",
       "      <td>기흥구-공세동</td>\n",
       "    </tr>\n",
       "    <tr>\n",
       "      <td>62</td>\n",
       "      <td>기타-태평동</td>\n",
       "    </tr>\n",
       "    <tr>\n",
       "      <td>63</td>\n",
       "      <td>기타-은행동</td>\n",
       "    </tr>\n",
       "    <tr>\n",
       "      <td>64</td>\n",
       "      <td>처인구-김량장동</td>\n",
       "    </tr>\n",
       "    <tr>\n",
       "      <td>65</td>\n",
       "      <td>수정구-신흥동</td>\n",
       "    </tr>\n",
       "    <tr>\n",
       "      <td>66</td>\n",
       "      <td>수정구-태평동</td>\n",
       "    </tr>\n",
       "    <tr>\n",
       "      <td>67</td>\n",
       "      <td>수정구-기타</td>\n",
       "    </tr>\n",
       "    <tr>\n",
       "      <td>68</td>\n",
       "      <td>기타-금광동</td>\n",
       "    </tr>\n",
       "    <tr>\n",
       "      <td>69</td>\n",
       "      <td>기흥구-보라동</td>\n",
       "    </tr>\n",
       "    <tr>\n",
       "      <td>70</td>\n",
       "      <td>중원구-금광동</td>\n",
       "    </tr>\n",
       "    <tr>\n",
       "      <td>71</td>\n",
       "      <td>수정구-상대원동</td>\n",
       "    </tr>\n",
       "    <tr>\n",
       "      <td>72</td>\n",
       "      <td>기흥구-서천동</td>\n",
       "    </tr>\n",
       "  </tbody>\n",
       "</table>\n",
       "</div>"
      ],
      "text/plain": [
       "           위치\n",
       "33    분당구-삼평동\n",
       "34    기흥구-청덕동\n",
       "35    중원구-여수동\n",
       "36    기흥구-신갈동\n",
       "37    기흥구-상갈동\n",
       "38    기흥구-영덕동\n",
       "39    수정구-복정동\n",
       "40    분당구-백현동\n",
       "41      하남-기타\n",
       "42      화성-기타\n",
       "43      광주-기타\n",
       "44    중원구-도촌동\n",
       "45  수원 권선구-기타\n",
       "46    기흥구-구갈동\n",
       "47    처인구-고림동\n",
       "48    처인구-역북동\n",
       "49    기흥구-상하동\n",
       "50     광주-산성동\n",
       "51    기흥구-마북동\n",
       "52    기흥구-지곡동\n",
       "53    중원구-성남동\n",
       "54     기흥구-기타\n",
       "55    중원구-산성동\n",
       "56    처인구-원삼면\n",
       "57  수원 팔달구-기타\n",
       "58    처인구-삼가동\n",
       "59     처인구-기타\n",
       "60    처인구-이동면\n",
       "61    기흥구-공세동\n",
       "62     기타-태평동\n",
       "63     기타-은행동\n",
       "64   처인구-김량장동\n",
       "65    수정구-신흥동\n",
       "66    수정구-태평동\n",
       "67     수정구-기타\n",
       "68     기타-금광동\n",
       "69    기흥구-보라동\n",
       "70    중원구-금광동\n",
       "71   수정구-상대원동\n",
       "72    기흥구-서천동"
      ]
     },
     "execution_count": 45,
     "metadata": {},
     "output_type": "execute_result"
    }
   ],
   "source": [
    "dt4_distance.tail(40)"
   ]
  },
  {
   "cell_type": "code",
   "execution_count": 37,
   "metadata": {
    "scrolled": true
   },
   "outputs": [
    {
     "data": {
      "text/html": [
       "<div>\n",
       "<style scoped>\n",
       "    .dataframe tbody tr th:only-of-type {\n",
       "        vertical-align: middle;\n",
       "    }\n",
       "\n",
       "    .dataframe tbody tr th {\n",
       "        vertical-align: top;\n",
       "    }\n",
       "\n",
       "    .dataframe thead th {\n",
       "        text-align: right;\n",
       "    }\n",
       "</style>\n",
       "<table border=\"1\" class=\"dataframe\">\n",
       "  <thead>\n",
       "    <tr style=\"text-align: right;\">\n",
       "      <th></th>\n",
       "      <th>공급일자</th>\n",
       "      <th>회원번호</th>\n",
       "      <th>조합원상태</th>\n",
       "      <th>물품대분류</th>\n",
       "      <th>물품중분류</th>\n",
       "      <th>물품소분류</th>\n",
       "      <th>물품명</th>\n",
       "      <th>구매수량</th>\n",
       "      <th>구매금액</th>\n",
       "      <th>구매매장</th>\n",
       "      <th>반품_원거래일자</th>\n",
       "      <th>구매시각</th>\n",
       "      <th>주소</th>\n",
       "      <th>성별</th>\n",
       "      <th>연령</th>\n",
       "      <th>배송서비스신청여부</th>\n",
       "      <th>모바일알람여부</th>\n",
       "      <th>Gold_member</th>\n",
       "      <th>구</th>\n",
       "      <th>동</th>\n",
       "    </tr>\n",
       "  </thead>\n",
       "  <tbody>\n",
       "    <tr>\n",
       "      <td>14</td>\n",
       "      <td>2018-01-02</td>\n",
       "      <td>939239936</td>\n",
       "      <td>정상회원</td>\n",
       "      <td>음료</td>\n",
       "      <td>음료</td>\n",
       "      <td>과즙</td>\n",
       "      <td>상큼한감귤&amp;한라봉(125ml*3개)</td>\n",
       "      <td>3.0</td>\n",
       "      <td>11199.0</td>\n",
       "      <td>매장C</td>\n",
       "      <td>NaN</td>\n",
       "      <td>11:59</td>\n",
       "      <td>기타-기타</td>\n",
       "      <td>여</td>\n",
       "      <td>39.0</td>\n",
       "      <td>미신청</td>\n",
       "      <td>수신</td>\n",
       "      <td>normal</td>\n",
       "      <td>기타</td>\n",
       "      <td>기타</td>\n",
       "    </tr>\n",
       "    <tr>\n",
       "      <td>79</td>\n",
       "      <td>2018-01-02</td>\n",
       "      <td>939239936</td>\n",
       "      <td>정상회원</td>\n",
       "      <td>반찬</td>\n",
       "      <td>어묵/묵</td>\n",
       "      <td>어묵</td>\n",
       "      <td>두부연어묵(270g)</td>\n",
       "      <td>1.0</td>\n",
       "      <td>7275.0</td>\n",
       "      <td>매장C</td>\n",
       "      <td>NaN</td>\n",
       "      <td>11:59</td>\n",
       "      <td>기타-기타</td>\n",
       "      <td>여</td>\n",
       "      <td>39.0</td>\n",
       "      <td>미신청</td>\n",
       "      <td>수신</td>\n",
       "      <td>normal</td>\n",
       "      <td>기타</td>\n",
       "      <td>기타</td>\n",
       "    </tr>\n",
       "    <tr>\n",
       "      <td>90</td>\n",
       "      <td>2018-01-02</td>\n",
       "      <td>830780864</td>\n",
       "      <td>정상회원</td>\n",
       "      <td>채소</td>\n",
       "      <td>뿌리채소</td>\n",
       "      <td>월동무</td>\n",
       "      <td>월동무(1.2kg이상)</td>\n",
       "      <td>1.0</td>\n",
       "      <td>3733.0</td>\n",
       "      <td>매장C</td>\n",
       "      <td>NaN</td>\n",
       "      <td>13:09</td>\n",
       "      <td>기타-기타</td>\n",
       "      <td>여</td>\n",
       "      <td>54.0</td>\n",
       "      <td>미신청</td>\n",
       "      <td>.</td>\n",
       "      <td>normal</td>\n",
       "      <td>기타</td>\n",
       "      <td>기타</td>\n",
       "    </tr>\n",
       "    <tr>\n",
       "      <td>91</td>\n",
       "      <td>2018-01-02</td>\n",
       "      <td>1373159744</td>\n",
       "      <td>정상회원</td>\n",
       "      <td>채소</td>\n",
       "      <td>잎/줄기채소</td>\n",
       "      <td>시금치</td>\n",
       "      <td>시금치(300g)</td>\n",
       "      <td>1.0</td>\n",
       "      <td>4403.0</td>\n",
       "      <td>매장C</td>\n",
       "      <td>NaN</td>\n",
       "      <td>13:15</td>\n",
       "      <td>기타-기타</td>\n",
       "      <td>여</td>\n",
       "      <td>35.0</td>\n",
       "      <td>미신청</td>\n",
       "      <td>.</td>\n",
       "      <td>normal</td>\n",
       "      <td>기타</td>\n",
       "      <td>기타</td>\n",
       "    </tr>\n",
       "    <tr>\n",
       "      <td>107</td>\n",
       "      <td>2018-01-02</td>\n",
       "      <td>434291008</td>\n",
       "      <td>정상회원</td>\n",
       "      <td>축산물</td>\n",
       "      <td>육가공</td>\n",
       "      <td>햄/소시지/훈제</td>\n",
       "      <td>꼬마소시지(300g)-매장</td>\n",
       "      <td>1.0</td>\n",
       "      <td>8041.0</td>\n",
       "      <td>매장C</td>\n",
       "      <td>NaN</td>\n",
       "      <td>15:25</td>\n",
       "      <td>기타-기타</td>\n",
       "      <td>여</td>\n",
       "      <td>64.0</td>\n",
       "      <td>미신청</td>\n",
       "      <td>.</td>\n",
       "      <td>normal</td>\n",
       "      <td>기타</td>\n",
       "      <td>기타</td>\n",
       "    </tr>\n",
       "    <tr>\n",
       "      <td>...</td>\n",
       "      <td>...</td>\n",
       "      <td>...</td>\n",
       "      <td>...</td>\n",
       "      <td>...</td>\n",
       "      <td>...</td>\n",
       "      <td>...</td>\n",
       "      <td>...</td>\n",
       "      <td>...</td>\n",
       "      <td>...</td>\n",
       "      <td>...</td>\n",
       "      <td>...</td>\n",
       "      <td>...</td>\n",
       "      <td>...</td>\n",
       "      <td>...</td>\n",
       "      <td>...</td>\n",
       "      <td>...</td>\n",
       "      <td>...</td>\n",
       "      <td>...</td>\n",
       "      <td>...</td>\n",
       "      <td>...</td>\n",
       "    </tr>\n",
       "    <tr>\n",
       "      <td>123085</td>\n",
       "      <td>2018-10-31</td>\n",
       "      <td>1358514048</td>\n",
       "      <td>정상회원</td>\n",
       "      <td>과실</td>\n",
       "      <td>과일</td>\n",
       "      <td>귤(조생)</td>\n",
       "      <td>귤/유(3kg)</td>\n",
       "      <td>1.0</td>\n",
       "      <td>19718.0</td>\n",
       "      <td>매장C</td>\n",
       "      <td>NaN</td>\n",
       "      <td>11:02</td>\n",
       "      <td>기타-기타</td>\n",
       "      <td>여</td>\n",
       "      <td>38.0</td>\n",
       "      <td>미신청</td>\n",
       "      <td>.</td>\n",
       "      <td>normal</td>\n",
       "      <td>기타</td>\n",
       "      <td>기타</td>\n",
       "    </tr>\n",
       "    <tr>\n",
       "      <td>123112</td>\n",
       "      <td>2018-10-31</td>\n",
       "      <td>1284847552</td>\n",
       "      <td>정상회원</td>\n",
       "      <td>음료</td>\n",
       "      <td>음료</td>\n",
       "      <td>뿌리차</td>\n",
       "      <td>돼지감자차(70g)</td>\n",
       "      <td>1.0</td>\n",
       "      <td>7849.0</td>\n",
       "      <td>매장C</td>\n",
       "      <td>NaN</td>\n",
       "      <td>17:11</td>\n",
       "      <td>기타-기타</td>\n",
       "      <td>여</td>\n",
       "      <td>32.0</td>\n",
       "      <td>미신청</td>\n",
       "      <td>수신</td>\n",
       "      <td>normal</td>\n",
       "      <td>기타</td>\n",
       "      <td>기타</td>\n",
       "    </tr>\n",
       "    <tr>\n",
       "      <td>123146</td>\n",
       "      <td>2018-10-31</td>\n",
       "      <td>486008448</td>\n",
       "      <td>정상회원</td>\n",
       "      <td>축산물</td>\n",
       "      <td>육가공</td>\n",
       "      <td>식육추출가공</td>\n",
       "      <td>육수용한우곰국(300g*3봉)</td>\n",
       "      <td>1.0</td>\n",
       "      <td>13592.0</td>\n",
       "      <td>매장C</td>\n",
       "      <td>NaN</td>\n",
       "      <td>19:55</td>\n",
       "      <td>기타-기타</td>\n",
       "      <td>여</td>\n",
       "      <td>42.0</td>\n",
       "      <td>미신청</td>\n",
       "      <td>수신</td>\n",
       "      <td>VIP</td>\n",
       "      <td>기타</td>\n",
       "      <td>기타</td>\n",
       "    </tr>\n",
       "    <tr>\n",
       "      <td>123158</td>\n",
       "      <td>2018-10-31</td>\n",
       "      <td>22270144</td>\n",
       "      <td>정상회원</td>\n",
       "      <td>채소</td>\n",
       "      <td>잎/줄기채소</td>\n",
       "      <td>양배추</td>\n",
       "      <td>양배추(1통:1kg이상)</td>\n",
       "      <td>1.0</td>\n",
       "      <td>4882.0</td>\n",
       "      <td>매장C</td>\n",
       "      <td>NaN</td>\n",
       "      <td>10:42</td>\n",
       "      <td>기타-기타</td>\n",
       "      <td>여</td>\n",
       "      <td>52.0</td>\n",
       "      <td>미신청</td>\n",
       "      <td>수신</td>\n",
       "      <td>VIP</td>\n",
       "      <td>기타</td>\n",
       "      <td>기타</td>\n",
       "    </tr>\n",
       "    <tr>\n",
       "      <td>123169</td>\n",
       "      <td>2018-10-31</td>\n",
       "      <td>1358514048</td>\n",
       "      <td>정상회원</td>\n",
       "      <td>채소</td>\n",
       "      <td>콩나물</td>\n",
       "      <td>콩나물</td>\n",
       "      <td>황토쥐눈이콩콩나물(300g)</td>\n",
       "      <td>1.0</td>\n",
       "      <td>4977.0</td>\n",
       "      <td>매장C</td>\n",
       "      <td>NaN</td>\n",
       "      <td>11:02</td>\n",
       "      <td>기타-기타</td>\n",
       "      <td>여</td>\n",
       "      <td>38.0</td>\n",
       "      <td>미신청</td>\n",
       "      <td>.</td>\n",
       "      <td>normal</td>\n",
       "      <td>기타</td>\n",
       "      <td>기타</td>\n",
       "    </tr>\n",
       "  </tbody>\n",
       "</table>\n",
       "<p>4362 rows × 20 columns</p>\n",
       "</div>"
      ],
      "text/plain": [
       "              공급일자        회원번호 조합원상태 물품대분류   물품중분류     물품소분류  \\\n",
       "14      2018-01-02   939239936  정상회원    음료      음료        과즙   \n",
       "79      2018-01-02   939239936  정상회원    반찬    어묵/묵        어묵   \n",
       "90      2018-01-02   830780864  정상회원    채소    뿌리채소       월동무   \n",
       "91      2018-01-02  1373159744  정상회원    채소  잎/줄기채소       시금치   \n",
       "107     2018-01-02   434291008  정상회원   축산물     육가공  햄/소시지/훈제   \n",
       "...            ...         ...   ...   ...     ...       ...   \n",
       "123085  2018-10-31  1358514048  정상회원    과실      과일     귤(조생)   \n",
       "123112  2018-10-31  1284847552  정상회원    음료      음료       뿌리차   \n",
       "123146  2018-10-31   486008448  정상회원   축산물     육가공    식육추출가공   \n",
       "123158  2018-10-31    22270144  정상회원    채소  잎/줄기채소       양배추   \n",
       "123169  2018-10-31  1358514048  정상회원    채소     콩나물       콩나물   \n",
       "\n",
       "                        물품명  구매수량     구매금액 구매매장  반품_원거래일자   구매시각     주소 성별  \\\n",
       "14      상큼한감귤&한라봉(125ml*3개)   3.0  11199.0  매장C       NaN  11:59  기타-기타  여   \n",
       "79              두부연어묵(270g)   1.0   7275.0  매장C       NaN  11:59  기타-기타  여   \n",
       "90             월동무(1.2kg이상)   1.0   3733.0  매장C       NaN  13:09  기타-기타  여   \n",
       "91                시금치(300g)   1.0   4403.0  매장C       NaN  13:15  기타-기타  여   \n",
       "107          꼬마소시지(300g)-매장   1.0   8041.0  매장C       NaN  15:25  기타-기타  여   \n",
       "...                     ...   ...      ...  ...       ...    ...    ... ..   \n",
       "123085             귤/유(3kg)   1.0  19718.0  매장C       NaN  11:02  기타-기타  여   \n",
       "123112           돼지감자차(70g)   1.0   7849.0  매장C       NaN  17:11  기타-기타  여   \n",
       "123146     육수용한우곰국(300g*3봉)   1.0  13592.0  매장C       NaN  19:55  기타-기타  여   \n",
       "123158        양배추(1통:1kg이상)   1.0   4882.0  매장C       NaN  10:42  기타-기타  여   \n",
       "123169      황토쥐눈이콩콩나물(300g)   1.0   4977.0  매장C       NaN  11:02  기타-기타  여   \n",
       "\n",
       "          연령 배송서비스신청여부 모바일알람여부 Gold_member   구   동  \n",
       "14      39.0       미신청      수신      normal  기타  기타  \n",
       "79      39.0       미신청      수신      normal  기타  기타  \n",
       "90      54.0       미신청       .      normal  기타  기타  \n",
       "91      35.0       미신청       .      normal  기타  기타  \n",
       "107     64.0       미신청       .      normal  기타  기타  \n",
       "...      ...       ...     ...         ...  ..  ..  \n",
       "123085  38.0       미신청       .      normal  기타  기타  \n",
       "123112  32.0       미신청      수신      normal  기타  기타  \n",
       "123146  42.0       미신청      수신         VIP  기타  기타  \n",
       "123158  52.0       미신청      수신         VIP  기타  기타  \n",
       "123169  38.0       미신청       .      normal  기타  기타  \n",
       "\n",
       "[4362 rows x 20 columns]"
      ]
     },
     "execution_count": 37,
     "metadata": {},
     "output_type": "execute_result"
    }
   ],
   "source": [
    "dt1_merge[dt1_merge['주소']==\"기타-기타\"]"
   ]
  },
  {
   "cell_type": "code",
   "execution_count": 47,
   "metadata": {},
   "outputs": [
    {
     "data": {
      "text/html": [
       "<div>\n",
       "<style scoped>\n",
       "    .dataframe tbody tr th:only-of-type {\n",
       "        vertical-align: middle;\n",
       "    }\n",
       "\n",
       "    .dataframe tbody tr th {\n",
       "        vertical-align: top;\n",
       "    }\n",
       "\n",
       "    .dataframe thead th {\n",
       "        text-align: right;\n",
       "    }\n",
       "</style>\n",
       "<table border=\"1\" class=\"dataframe\">\n",
       "  <thead>\n",
       "    <tr style=\"text-align: right;\">\n",
       "      <th></th>\n",
       "      <th>위치</th>\n",
       "      <th>거리</th>\n",
       "      <th>구</th>\n",
       "    </tr>\n",
       "  </thead>\n",
       "  <tbody>\n",
       "    <tr>\n",
       "      <td>0</td>\n",
       "      <td>광주-기타</td>\n",
       "      <td>29</td>\n",
       "      <td>광주</td>\n",
       "    </tr>\n",
       "    <tr>\n",
       "      <td>1</td>\n",
       "      <td>광주-산성동</td>\n",
       "      <td>24</td>\n",
       "      <td>광주</td>\n",
       "    </tr>\n",
       "    <tr>\n",
       "      <td>2</td>\n",
       "      <td>광주-오포읍</td>\n",
       "      <td>20</td>\n",
       "      <td>광주</td>\n",
       "    </tr>\n",
       "    <tr>\n",
       "      <td>3</td>\n",
       "      <td>기타-금광동</td>\n",
       "      <td>25</td>\n",
       "      <td>중원구</td>\n",
       "    </tr>\n",
       "    <tr>\n",
       "      <td>4</td>\n",
       "      <td>기타-기타</td>\n",
       "      <td>17</td>\n",
       "      <td>성남</td>\n",
       "    </tr>\n",
       "  </tbody>\n",
       "</table>\n",
       "</div>"
      ],
      "text/plain": [
       "       위치  거리    구\n",
       "0   광주-기타  29   광주\n",
       "1  광주-산성동  24   광주\n",
       "2  광주-오포읍  20   광주\n",
       "3  기타-금광동  25  중원구\n",
       "4   기타-기타  17   성남"
      ]
     },
     "execution_count": 47,
     "metadata": {},
     "output_type": "execute_result"
    }
   ],
   "source": [
    "dt4_dist = pd.read_csv('동천매장_거리.csv')\n",
    "dt3_dist = pd.read_csv('상현매장_거리.csv')\n",
    "dt2_dist = pd.read_csv('신봉매장_거리.csv')\n",
    "dt1_dist = pd.read_csv('수지매장_거리.csv')\n",
    "\n",
    "dt4_dist.head()"
   ]
  },
  {
   "cell_type": "code",
   "execution_count": 48,
   "metadata": {},
   "outputs": [
    {
     "data": {
      "text/html": [
       "<div>\n",
       "<style scoped>\n",
       "    .dataframe tbody tr th:only-of-type {\n",
       "        vertical-align: middle;\n",
       "    }\n",
       "\n",
       "    .dataframe tbody tr th {\n",
       "        vertical-align: top;\n",
       "    }\n",
       "\n",
       "    .dataframe thead th {\n",
       "        text-align: right;\n",
       "    }\n",
       "</style>\n",
       "<table border=\"1\" class=\"dataframe\">\n",
       "  <thead>\n",
       "    <tr style=\"text-align: right;\">\n",
       "      <th></th>\n",
       "      <th>위치</th>\n",
       "      <th>거리</th>\n",
       "      <th>구</th>\n",
       "    </tr>\n",
       "  </thead>\n",
       "  <tbody>\n",
       "    <tr>\n",
       "      <td>0</td>\n",
       "      <td>광주-기타</td>\n",
       "      <td>28</td>\n",
       "      <td>광주</td>\n",
       "    </tr>\n",
       "    <tr>\n",
       "      <td>1</td>\n",
       "      <td>광주-산성동</td>\n",
       "      <td>23</td>\n",
       "      <td>수정구</td>\n",
       "    </tr>\n",
       "    <tr>\n",
       "      <td>2</td>\n",
       "      <td>광주-오포읍</td>\n",
       "      <td>20</td>\n",
       "      <td>광주</td>\n",
       "    </tr>\n",
       "    <tr>\n",
       "      <td>3</td>\n",
       "      <td>기타-기타</td>\n",
       "      <td>17</td>\n",
       "      <td>성남</td>\n",
       "    </tr>\n",
       "    <tr>\n",
       "      <td>4</td>\n",
       "      <td>기타-동백동</td>\n",
       "      <td>13</td>\n",
       "      <td>성남</td>\n",
       "    </tr>\n",
       "  </tbody>\n",
       "</table>\n",
       "</div>"
      ],
      "text/plain": [
       "       위치  거리    구\n",
       "0   광주-기타  28   광주\n",
       "1  광주-산성동  23  수정구\n",
       "2  광주-오포읍  20   광주\n",
       "3   기타-기타  17   성남\n",
       "4  기타-동백동  13   성남"
      ]
     },
     "execution_count": 48,
     "metadata": {},
     "output_type": "execute_result"
    }
   ],
   "source": [
    "dt3_dist.head()"
   ]
  },
  {
   "cell_type": "code",
   "execution_count": 49,
   "metadata": {},
   "outputs": [
    {
     "data": {
      "text/html": [
       "<div>\n",
       "<style scoped>\n",
       "    .dataframe tbody tr th:only-of-type {\n",
       "        vertical-align: middle;\n",
       "    }\n",
       "\n",
       "    .dataframe tbody tr th {\n",
       "        vertical-align: top;\n",
       "    }\n",
       "\n",
       "    .dataframe thead th {\n",
       "        text-align: right;\n",
       "    }\n",
       "</style>\n",
       "<table border=\"1\" class=\"dataframe\">\n",
       "  <thead>\n",
       "    <tr style=\"text-align: right;\">\n",
       "      <th></th>\n",
       "      <th>위치</th>\n",
       "      <th>거리</th>\n",
       "      <th>구</th>\n",
       "    </tr>\n",
       "  </thead>\n",
       "  <tbody>\n",
       "    <tr>\n",
       "      <td>0</td>\n",
       "      <td>광주-기타</td>\n",
       "      <td>30</td>\n",
       "      <td>광주</td>\n",
       "    </tr>\n",
       "    <tr>\n",
       "      <td>1</td>\n",
       "      <td>광주-산성동</td>\n",
       "      <td>26</td>\n",
       "      <td>수정구</td>\n",
       "    </tr>\n",
       "    <tr>\n",
       "      <td>2</td>\n",
       "      <td>광주-오포읍</td>\n",
       "      <td>22</td>\n",
       "      <td>광주</td>\n",
       "    </tr>\n",
       "    <tr>\n",
       "      <td>3</td>\n",
       "      <td>기타-궁내동</td>\n",
       "      <td>15</td>\n",
       "      <td>분당구</td>\n",
       "    </tr>\n",
       "    <tr>\n",
       "      <td>4</td>\n",
       "      <td>기타-금곡동</td>\n",
       "      <td>12</td>\n",
       "      <td>분당구</td>\n",
       "    </tr>\n",
       "  </tbody>\n",
       "</table>\n",
       "</div>"
      ],
      "text/plain": [
       "       위치  거리    구\n",
       "0   광주-기타  30   광주\n",
       "1  광주-산성동  26  수정구\n",
       "2  광주-오포읍  22   광주\n",
       "3  기타-궁내동  15  분당구\n",
       "4  기타-금곡동  12  분당구"
      ]
     },
     "execution_count": 49,
     "metadata": {},
     "output_type": "execute_result"
    }
   ],
   "source": [
    "dt2_dist.head()"
   ]
  },
  {
   "cell_type": "code",
   "execution_count": 50,
   "metadata": {},
   "outputs": [
    {
     "data": {
      "text/html": [
       "<div>\n",
       "<style scoped>\n",
       "    .dataframe tbody tr th:only-of-type {\n",
       "        vertical-align: middle;\n",
       "    }\n",
       "\n",
       "    .dataframe tbody tr th {\n",
       "        vertical-align: top;\n",
       "    }\n",
       "\n",
       "    .dataframe thead th {\n",
       "        text-align: right;\n",
       "    }\n",
       "</style>\n",
       "<table border=\"1\" class=\"dataframe\">\n",
       "  <thead>\n",
       "    <tr style=\"text-align: right;\">\n",
       "      <th></th>\n",
       "      <th>위치</th>\n",
       "      <th>거리</th>\n",
       "      <th>구</th>\n",
       "    </tr>\n",
       "  </thead>\n",
       "  <tbody>\n",
       "    <tr>\n",
       "      <td>0</td>\n",
       "      <td>광주-기타</td>\n",
       "      <td>26</td>\n",
       "      <td>광주</td>\n",
       "    </tr>\n",
       "    <tr>\n",
       "      <td>1</td>\n",
       "      <td>광주-산성동</td>\n",
       "      <td>22</td>\n",
       "      <td>수정구</td>\n",
       "    </tr>\n",
       "    <tr>\n",
       "      <td>2</td>\n",
       "      <td>광주-오포읍</td>\n",
       "      <td>17</td>\n",
       "      <td>광주</td>\n",
       "    </tr>\n",
       "    <tr>\n",
       "      <td>3</td>\n",
       "      <td>기타-금광동</td>\n",
       "      <td>22</td>\n",
       "      <td>중원구</td>\n",
       "    </tr>\n",
       "    <tr>\n",
       "      <td>4</td>\n",
       "      <td>기타-기타</td>\n",
       "      <td>16</td>\n",
       "      <td>성남</td>\n",
       "    </tr>\n",
       "  </tbody>\n",
       "</table>\n",
       "</div>"
      ],
      "text/plain": [
       "       위치  거리    구\n",
       "0   광주-기타  26   광주\n",
       "1  광주-산성동  22  수정구\n",
       "2  광주-오포읍  17   광주\n",
       "3  기타-금광동  22  중원구\n",
       "4   기타-기타  16   성남"
      ]
     },
     "execution_count": 50,
     "metadata": {},
     "output_type": "execute_result"
    }
   ],
   "source": [
    "dt1_dist.head()"
   ]
  },
  {
   "cell_type": "code",
   "execution_count": null,
   "metadata": {},
   "outputs": [],
   "source": []
  },
  {
   "cell_type": "code",
   "execution_count": null,
   "metadata": {},
   "outputs": [],
   "source": []
  },
  {
   "cell_type": "code",
   "execution_count": null,
   "metadata": {},
   "outputs": [],
   "source": []
  },
  {
   "cell_type": "code",
   "execution_count": null,
   "metadata": {},
   "outputs": [],
   "source": []
  },
  {
   "cell_type": "code",
   "execution_count": null,
   "metadata": {},
   "outputs": [],
   "source": []
  },
  {
   "cell_type": "code",
   "execution_count": null,
   "metadata": {},
   "outputs": [],
   "source": []
  },
  {
   "cell_type": "code",
   "execution_count": null,
   "metadata": {},
   "outputs": [],
   "source": []
  },
  {
   "cell_type": "code",
   "execution_count": null,
   "metadata": {},
   "outputs": [],
   "source": []
  },
  {
   "cell_type": "code",
   "execution_count": null,
   "metadata": {},
   "outputs": [],
   "source": []
  },
  {
   "cell_type": "code",
   "execution_count": null,
   "metadata": {},
   "outputs": [],
   "source": []
  },
  {
   "cell_type": "code",
   "execution_count": null,
   "metadata": {},
   "outputs": [],
   "source": []
  },
  {
   "cell_type": "code",
   "execution_count": null,
   "metadata": {},
   "outputs": [],
   "source": []
  },
  {
   "cell_type": "code",
   "execution_count": null,
   "metadata": {},
   "outputs": [],
   "source": []
  },
  {
   "cell_type": "code",
   "execution_count": null,
   "metadata": {},
   "outputs": [],
   "source": []
  },
  {
   "cell_type": "code",
   "execution_count": null,
   "metadata": {},
   "outputs": [],
   "source": []
  },
  {
   "cell_type": "code",
   "execution_count": null,
   "metadata": {},
   "outputs": [],
   "source": []
  },
  {
   "cell_type": "code",
   "execution_count": null,
   "metadata": {},
   "outputs": [],
   "source": []
  },
  {
   "cell_type": "code",
   "execution_count": null,
   "metadata": {},
   "outputs": [],
   "source": []
  },
  {
   "cell_type": "code",
   "execution_count": null,
   "metadata": {},
   "outputs": [],
   "source": []
  },
  {
   "cell_type": "code",
   "execution_count": null,
   "metadata": {},
   "outputs": [],
   "source": []
  },
  {
   "cell_type": "code",
   "execution_count": null,
   "metadata": {},
   "outputs": [],
   "source": []
  },
  {
   "cell_type": "code",
   "execution_count": null,
   "metadata": {},
   "outputs": [],
   "source": []
  },
  {
   "cell_type": "code",
   "execution_count": null,
   "metadata": {},
   "outputs": [],
   "source": []
  },
  {
   "cell_type": "code",
   "execution_count": null,
   "metadata": {},
   "outputs": [],
   "source": []
  },
  {
   "cell_type": "code",
   "execution_count": null,
   "metadata": {},
   "outputs": [],
   "source": []
  },
  {
   "cell_type": "code",
   "execution_count": null,
   "metadata": {},
   "outputs": [],
   "source": []
  },
  {
   "cell_type": "code",
   "execution_count": null,
   "metadata": {},
   "outputs": [],
   "source": []
  },
  {
   "cell_type": "code",
   "execution_count": null,
   "metadata": {},
   "outputs": [],
   "source": []
  },
  {
   "cell_type": "code",
   "execution_count": null,
   "metadata": {},
   "outputs": [],
   "source": []
  },
  {
   "cell_type": "code",
   "execution_count": null,
   "metadata": {},
   "outputs": [],
   "source": []
  },
  {
   "cell_type": "code",
   "execution_count": null,
   "metadata": {},
   "outputs": [],
   "source": []
  },
  {
   "cell_type": "code",
   "execution_count": null,
   "metadata": {},
   "outputs": [],
   "source": []
  },
  {
   "cell_type": "code",
   "execution_count": null,
   "metadata": {},
   "outputs": [],
   "source": []
  },
  {
   "cell_type": "code",
   "execution_count": null,
   "metadata": {},
   "outputs": [],
   "source": []
  }
 ],
 "metadata": {
  "kernelspec": {
   "display_name": "Python 3",
   "language": "python",
   "name": "python3"
  },
  "language_info": {
   "codemirror_mode": {
    "name": "ipython",
    "version": 3
   },
   "file_extension": ".py",
   "mimetype": "text/x-python",
   "name": "python",
   "nbconvert_exporter": "python",
   "pygments_lexer": "ipython3",
   "version": "3.7.4"
  }
 },
 "nbformat": 4,
 "nbformat_minor": 2
}
