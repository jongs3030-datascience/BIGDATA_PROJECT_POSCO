{
 "cells": [
  {
   "cell_type": "code",
   "execution_count": 1,
   "metadata": {},
   "outputs": [],
   "source": [
    "import pandas as pd\n",
    "import matplotlib.pyplot as plt\n",
    "import matplotlib\n",
    "\n",
    "from sklearn.tree import export_graphviz\n",
    "\n",
    "import graphviz\n",
    "\n",
    "from sklearn.model_selection import train_test_split\n",
    "from sklearn.ensemble import GradientBoostingRegressor\n",
    "from sklearn.tree import DecisionTreeRegressor\n",
    "from sklearn.ensemble import RandomForestRegressor\n",
    "\n",
    "from sklearn.model_selection import GridSearchCV\n",
    "\n",
    "import numpy as np\n",
    "\n",
    "from sklearn.metrics import mean_squared_error\n",
    "from sklearn.metrics import mean_absolute_error"
   ]
  },
  {
   "cell_type": "code",
   "execution_count": 6,
   "metadata": {},
   "outputs": [],
   "source": [
    "import statsmodels.formula.api as smf"
   ]
  },
  {
   "cell_type": "code",
   "execution_count": 2,
   "metadata": {},
   "outputs": [],
   "source": [
    "def root_mean_squared_error(y_true, y_pred):\n",
    "    return np.sqrt(mean_squared_error(y_true, y_pred))\n",
    "\n",
    "def mean_absolute_percentage_error(y_true, y_pred):\n",
    "    return np.mean(np.abs((y_true - y_pred)/y_true))\n"
   ]
  },
  {
   "cell_type": "code",
   "execution_count": 12,
   "metadata": {},
   "outputs": [],
   "source": [
    "from statsmodels.formula.api import ols\n",
    "from statsmodels.api import qqplot, add_constant\n",
    "import statsmodels.formula.api as smf\n",
    "from statsmodels.tools.eval_measures import rmse\n"
   ]
  },
  {
   "cell_type": "code",
   "execution_count": 14,
   "metadata": {},
   "outputs": [
    {
     "name": "stdout",
     "output_type": "stream",
     "text": [
      "                            OLS Regression Results                            \n",
      "==============================================================================\n",
      "Dep. Variable:                    FAT   R-squared:                       0.731\n",
      "Model:                            OLS   Adj. R-squared:                  0.726\n",
      "Method:                 Least Squares   F-statistic:                     133.8\n",
      "Date:                Thu, 06 Feb 2020   Prob (F-statistic):           4.38e-68\n",
      "Time:                        13:42:04   Log-Likelihood:                -726.92\n",
      "No. Observations:                 252   AIC:                             1466.\n",
      "Df Residuals:                     246   BIC:                             1487.\n",
      "Df Model:                           5                                         \n",
      "Covariance Type:            nonrobust                                         \n",
      "==============================================================================\n",
      "                 coef    std err          t      P>|t|      [0.025      0.975]\n",
      "------------------------------------------------------------------------------\n",
      "Intercept      2.7037      6.231      0.434      0.665      -9.568      14.976\n",
      "NECK          -0.6012      0.215     -2.798      0.006      -1.024      -0.178\n",
      "ABDOMEN        0.9743      0.056     17.301      0.000       0.863       1.085\n",
      "HIP           -0.3316      0.083     -3.977      0.000      -0.496      -0.167\n",
      "FOREARM        0.4095      0.182      2.249      0.025       0.051       0.768\n",
      "WRIST         -1.6180      0.462     -3.503      0.001      -2.528      -0.708\n",
      "==============================================================================\n",
      "Omnibus:                        3.695   Durbin-Watson:                   2.128\n",
      "Prob(Omnibus):                  0.158   Jarque-Bera (JB):                2.745\n",
      "Skew:                           0.107   Prob(JB):                        0.254\n",
      "Kurtosis:                       2.536   Cond. No.                     3.30e+03\n",
      "==============================================================================\n",
      "\n",
      "Warnings:\n",
      "[1] Standard Errors assume that the covariance matrix of the errors is correctly specified.\n",
      "[2] The condition number is large, 3.3e+03. This might indicate that there are\n",
      "strong multicollinearity or other numerical problems.\n"
     ]
    },
    {
     "data": {
      "text/plain": [
       "GradientBoostingRegressor(alpha=0.9, criterion='friedman_mse', init=None,\n",
       "                          learning_rate=0.1, loss='ls', max_depth=4,\n",
       "                          max_features=None, max_leaf_nodes=None,\n",
       "                          min_impurity_decrease=0.0, min_impurity_split=None,\n",
       "                          min_samples_leaf=11, min_samples_split=22,\n",
       "                          min_weight_fraction_leaf=0.0, n_estimators=30,\n",
       "                          n_iter_no_change=None, presort='auto',\n",
       "                          random_state=1234, subsample=1.0, tol=0.0001,\n",
       "                          validation_fraction=0.1, verbose=0, warm_start=False)"
      ]
     },
     "execution_count": 14,
     "metadata": {},
     "output_type": "execute_result"
    }
   ],
   "source": [
    "df_raw = pd.read_csv('체질검사.csv', encoding = 'cp949')\n",
    "df_raw_y = df_raw['FAT']\n",
    "df_raw_x = df_raw.drop('FAT', axis = 1, inplace = False)\n",
    "df_train_x, df_test_x, df_train_y, df_test_y = train_test_split(df_raw_x, df_raw_y, test_size = 0.3, random_state = 1234)\n",
    "\n",
    "lr_model = smf.ols(formula = \"FAT ~ NECK + ABDOMEN + HIP + FOREARM + WRIST\", data = df_raw)\n",
    "lr_result = lr_model.fit()\n",
    "print(lr_result.summary())\n",
    "\n",
    "dt_model = DecisionTreeRegressor(random_state = 1234,\n",
    "                                min_samples_leaf = 8,\n",
    "                                min_samples_split = 20,\n",
    "                                max_depth = 4)\n",
    "dt_model.fit(df_train_x, df_train_y)\n",
    "\n",
    "rf_model = RandomForestRegressor(random_state = 1234,\n",
    "                                n_estimators = 100,\n",
    "                                min_samples_leaf = 6,\n",
    "                                min_samples_split = 14,\n",
    "                                max_depth = 4)\n",
    "rf_model.fit(df_train_x, df_train_y)\n",
    "\n",
    "gb_model = GradientBoostingRegressor(random_state = 1234,\n",
    "                                    n_estimators = 30,\n",
    "                                    min_samples_leaf = 11,\n",
    "                                    min_samples_split = 22,\n",
    "                                    max_depth = 4,\n",
    "                                    learning_rate = 0.1)\n",
    "gb_model.fit(df_train_x, df_train_y)"
   ]
  },
  {
   "cell_type": "code",
   "execution_count": 26,
   "metadata": {},
   "outputs": [],
   "source": [
    "models = [\"회귀분석\",\"의사결정나무\",\"랜덤 포레스트\",\"그래디언트 부스팅\"]\n",
    "mse, rmse, mae, mape = [],[],[],[]\n",
    "\n",
    "lr_y_pred = lr_result.predict(df_test_x)\n",
    "\n",
    "mse.append(mean_squared_error(df_test_y, lr_y_pred))\n",
    "rmse.append(root_mean_squared_error(df_test_y, lr_y_pred))\n",
    "mae.append(mean_absolute_error(df_test_y, lr_y_pred))\n",
    "mape.append(mean_absolute_percentage_error(df_test_y, lr_y_pred))\n"
   ]
  },
  {
   "cell_type": "code",
   "execution_count": 27,
   "metadata": {},
   "outputs": [],
   "source": [
    "dt_y_pred = dt_model.predict(df_test_x)\n",
    "\n",
    "mse.append(mean_squared_error(df_test_y, dt_y_pred))\n",
    "rmse.append(root_mean_squared_error(df_test_y, dt_y_pred))\n",
    "mae.append(mean_absolute_error(df_test_y, dt_y_pred))\n",
    "mape.append(mean_absolute_percentage_error(df_test_y, dt_y_pred))\n",
    "\n"
   ]
  },
  {
   "cell_type": "code",
   "execution_count": 28,
   "metadata": {},
   "outputs": [],
   "source": [
    "rf_y_pred = rf_model.predict(df_test_x)\n",
    "\n",
    "mse.append(mean_squared_error(df_test_y, rf_y_pred))\n",
    "rmse.append(root_mean_squared_error(df_test_y, rf_y_pred))\n",
    "mae.append(mean_absolute_error(df_test_y, rf_y_pred))\n",
    "mape.append(mean_absolute_percentage_error(df_test_y, rf_y_pred))"
   ]
  },
  {
   "cell_type": "code",
   "execution_count": 29,
   "metadata": {},
   "outputs": [],
   "source": [
    "gb_y_pred = gb_model.predict(df_test_x)\n",
    "\n",
    "mse.append(mean_squared_error(df_test_y, gb_y_pred))\n",
    "rmse.append(root_mean_squared_error(df_test_y, gb_y_pred))\n",
    "mae.append(mean_absolute_error(df_test_y, gb_y_pred))\n",
    "mape.append(mean_absolute_percentage_error(df_test_y, gb_y_pred))"
   ]
  },
  {
   "cell_type": "code",
   "execution_count": 30,
   "metadata": {},
   "outputs": [
    {
     "data": {
      "text/plain": [
       "[20.147912278293234,\n",
       " 28.634493304123627,\n",
       " 24.822829014027725,\n",
       " 24.715876257051274]"
      ]
     },
     "execution_count": 30,
     "metadata": {},
     "output_type": "execute_result"
    }
   ],
   "source": [
    "mse"
   ]
  },
  {
   "cell_type": "code",
   "execution_count": null,
   "metadata": {},
   "outputs": [],
   "source": []
  },
  {
   "cell_type": "code",
   "execution_count": 31,
   "metadata": {},
   "outputs": [
    {
     "data": {
      "image/png": "[encoded data removed]",
      "text/plain": [
       "<Figure size 936x720 with 4 Axes>"
      ]
     },
     "metadata": {
      "needs_background": "light"
     },
     "output_type": "display_data"
    }
   ],
   "source": [
    "fig, ax = plt.subplots(2,2,figsize = (13,10))\n",
    "ax[0,0].bar(models, mse)\n",
    "ax[0,0].set_title(\"mse\").set_fontsize(15)\n",
    "\n",
    "ax[0,1].bar(models, rmse)\n",
    "ax[0,1].set_title(\"rmse\").set_fontsize(15)\n",
    "\n",
    "ax[1,0].bar(models, mae)\n",
    "ax[1,0].set_title(\"mae\").set_fontsize(15)\n",
    "\n",
    "ax[1,1].bar(models, mape)\n",
    "ax[1,1].set_title(\"mape\").set_fontsize(15)"
   ]
  },
  {
   "cell_type": "code",
   "execution_count": null,
   "metadata": {},
   "outputs": [],
   "source": []
  },
  {
   "cell_type": "code",
   "execution_count": null,
   "metadata": {},
   "outputs": [],
   "source": []
  },
  {
   "cell_type": "markdown",
   "metadata": {},
   "source": [
    "# PCA - 주성분분석"
   ]
  },
  {
   "cell_type": "code",
   "execution_count": 37,
   "metadata": {},
   "outputs": [],
   "source": [
    "from sklearn.preprocessing import StandardScaler\n",
    "\n",
    "from sklearn.decomposition import PCA\n",
    "import statsmodels.api as sm\n",
    "import seaborn as sns"
   ]
  },
  {
   "cell_type": "code",
   "execution_count": 38,
   "metadata": {
    "scrolled": true
   },
   "outputs": [
    {
     "data": {
      "text/html": [
       "<div>\n",
       "<style scoped>\n",
       "    .dataframe tbody tr th:only-of-type {\n",
       "        vertical-align: middle;\n",
       "    }\n",
       "\n",
       "    .dataframe tbody tr th {\n",
       "        vertical-align: top;\n",
       "    }\n",
       "\n",
       "    .dataframe thead th {\n",
       "        text-align: right;\n",
       "    }\n",
       "</style>\n",
       "<table border=\"1\" class=\"dataframe\">\n",
       "  <thead>\n",
       "    <tr style=\"text-align: right;\">\n",
       "      <th></th>\n",
       "      <th>EVAL</th>\n",
       "      <th>DISSATIS</th>\n",
       "      <th>PRIVILEGE</th>\n",
       "      <th>CHANCE</th>\n",
       "      <th>ADVANCE</th>\n",
       "      <th>CRITISM</th>\n",
       "      <th>PROMOTION</th>\n",
       "    </tr>\n",
       "  </thead>\n",
       "  <tbody>\n",
       "    <tr>\n",
       "      <td>0</td>\n",
       "      <td>43</td>\n",
       "      <td>51</td>\n",
       "      <td>30</td>\n",
       "      <td>39</td>\n",
       "      <td>61</td>\n",
       "      <td>92</td>\n",
       "      <td>45</td>\n",
       "    </tr>\n",
       "    <tr>\n",
       "      <td>1</td>\n",
       "      <td>63</td>\n",
       "      <td>64</td>\n",
       "      <td>51</td>\n",
       "      <td>54</td>\n",
       "      <td>63</td>\n",
       "      <td>73</td>\n",
       "      <td>47</td>\n",
       "    </tr>\n",
       "    <tr>\n",
       "      <td>2</td>\n",
       "      <td>71</td>\n",
       "      <td>70</td>\n",
       "      <td>68</td>\n",
       "      <td>69</td>\n",
       "      <td>76</td>\n",
       "      <td>86</td>\n",
       "      <td>48</td>\n",
       "    </tr>\n",
       "    <tr>\n",
       "      <td>3</td>\n",
       "      <td>61</td>\n",
       "      <td>63</td>\n",
       "      <td>45</td>\n",
       "      <td>47</td>\n",
       "      <td>54</td>\n",
       "      <td>84</td>\n",
       "      <td>35</td>\n",
       "    </tr>\n",
       "    <tr>\n",
       "      <td>4</td>\n",
       "      <td>81</td>\n",
       "      <td>78</td>\n",
       "      <td>56</td>\n",
       "      <td>66</td>\n",
       "      <td>71</td>\n",
       "      <td>83</td>\n",
       "      <td>47</td>\n",
       "    </tr>\n",
       "  </tbody>\n",
       "</table>\n",
       "</div>"
      ],
      "text/plain": [
       "   EVAL  DISSATIS  PRIVILEGE  CHANCE  ADVANCE  CRITISM  PROMOTION\n",
       "0    43        51         30      39       61       92         45\n",
       "1    63        64         51      54       63       73         47\n",
       "2    71        70         68      69       76       86         48\n",
       "3    61        63         45      47       54       84         35\n",
       "4    81        78         56      66       71       83         47"
      ]
     },
     "execution_count": 38,
     "metadata": {},
     "output_type": "execute_result"
    }
   ],
   "source": [
    "df_raw = pd.read_csv('직무능력평가.csv', encoding = 'cp949')\n",
    "df_raw.head()"
   ]
  },
  {
   "cell_type": "code",
   "execution_count": null,
   "metadata": {},
   "outputs": [],
   "source": []
  },
  {
   "cell_type": "code",
   "execution_count": 39,
   "metadata": {},
   "outputs": [],
   "source": [
    "df_raw_x = df_raw.drop('EVAL', axis = 1)\n",
    "df_raw_y = df_raw['EVAL']\n"
   ]
  },
  {
   "cell_type": "code",
   "execution_count": null,
   "metadata": {},
   "outputs": [],
   "source": []
  },
  {
   "cell_type": "code",
   "execution_count": 40,
   "metadata": {},
   "outputs": [
    {
     "data": {
      "text/html": [
       "<div>\n",
       "<style scoped>\n",
       "    .dataframe tbody tr th:only-of-type {\n",
       "        vertical-align: middle;\n",
       "    }\n",
       "\n",
       "    .dataframe tbody tr th {\n",
       "        vertical-align: top;\n",
       "    }\n",
       "\n",
       "    .dataframe thead th {\n",
       "        text-align: right;\n",
       "    }\n",
       "</style>\n",
       "<table border=\"1\" class=\"dataframe\">\n",
       "  <thead>\n",
       "    <tr style=\"text-align: right;\">\n",
       "      <th></th>\n",
       "      <th>DISSATIS</th>\n",
       "      <th>PRIVILEGE</th>\n",
       "      <th>CHANCE</th>\n",
       "      <th>ADVANCE</th>\n",
       "      <th>CRITISM</th>\n",
       "      <th>PROMOTION</th>\n",
       "    </tr>\n",
       "  </thead>\n",
       "  <tbody>\n",
       "    <tr>\n",
       "      <td>DISSATIS</td>\n",
       "      <td>1.000</td>\n",
       "      <td>0.558</td>\n",
       "      <td>0.597</td>\n",
       "      <td>0.669</td>\n",
       "      <td>0.188</td>\n",
       "      <td>0.225</td>\n",
       "    </tr>\n",
       "    <tr>\n",
       "      <td>PRIVILEGE</td>\n",
       "      <td>0.558</td>\n",
       "      <td>1.000</td>\n",
       "      <td>0.493</td>\n",
       "      <td>0.445</td>\n",
       "      <td>0.147</td>\n",
       "      <td>0.343</td>\n",
       "    </tr>\n",
       "    <tr>\n",
       "      <td>CHANCE</td>\n",
       "      <td>0.597</td>\n",
       "      <td>0.493</td>\n",
       "      <td>1.000</td>\n",
       "      <td>0.640</td>\n",
       "      <td>0.116</td>\n",
       "      <td>0.532</td>\n",
       "    </tr>\n",
       "    <tr>\n",
       "      <td>ADVANCE</td>\n",
       "      <td>0.669</td>\n",
       "      <td>0.445</td>\n",
       "      <td>0.640</td>\n",
       "      <td>1.000</td>\n",
       "      <td>0.377</td>\n",
       "      <td>0.574</td>\n",
       "    </tr>\n",
       "    <tr>\n",
       "      <td>CRITISM</td>\n",
       "      <td>0.188</td>\n",
       "      <td>0.147</td>\n",
       "      <td>0.116</td>\n",
       "      <td>0.377</td>\n",
       "      <td>1.000</td>\n",
       "      <td>0.283</td>\n",
       "    </tr>\n",
       "    <tr>\n",
       "      <td>PROMOTION</td>\n",
       "      <td>0.225</td>\n",
       "      <td>0.343</td>\n",
       "      <td>0.532</td>\n",
       "      <td>0.574</td>\n",
       "      <td>0.283</td>\n",
       "      <td>1.000</td>\n",
       "    </tr>\n",
       "  </tbody>\n",
       "</table>\n",
       "</div>"
      ],
      "text/plain": [
       "           DISSATIS  PRIVILEGE  CHANCE  ADVANCE  CRITISM  PROMOTION\n",
       "DISSATIS      1.000      0.558   0.597    0.669    0.188      0.225\n",
       "PRIVILEGE     0.558      1.000   0.493    0.445    0.147      0.343\n",
       "CHANCE        0.597      0.493   1.000    0.640    0.116      0.532\n",
       "ADVANCE       0.669      0.445   0.640    1.000    0.377      0.574\n",
       "CRITISM       0.188      0.147   0.116    0.377    1.000      0.283\n",
       "PROMOTION     0.225      0.343   0.532    0.574    0.283      1.000"
      ]
     },
     "execution_count": 40,
     "metadata": {},
     "output_type": "execute_result"
    },
    {
     "data": {
      "image/png": "[encoded data removed]",
      "text/plain": [
       "<Figure size 1080x1080 with 42 Axes>"
      ]
     },
     "metadata": {
      "needs_background": "light"
     },
     "output_type": "display_data"
    }
   ],
   "source": [
    "sns.pairplot(df_raw_x)\n",
    "df_raw_x.corr().round(3)"
   ]
  },
  {
   "cell_type": "code",
   "execution_count": 41,
   "metadata": {},
   "outputs": [
    {
     "data": {
      "text/html": [
       "<div>\n",
       "<style scoped>\n",
       "    .dataframe tbody tr th:only-of-type {\n",
       "        vertical-align: middle;\n",
       "    }\n",
       "\n",
       "    .dataframe tbody tr th {\n",
       "        vertical-align: top;\n",
       "    }\n",
       "\n",
       "    .dataframe thead th {\n",
       "        text-align: right;\n",
       "    }\n",
       "</style>\n",
       "<table border=\"1\" class=\"dataframe\">\n",
       "  <thead>\n",
       "    <tr style=\"text-align: right;\">\n",
       "      <th></th>\n",
       "      <th>DISSATIS</th>\n",
       "      <th>PRIVILEGE</th>\n",
       "      <th>CHANCE</th>\n",
       "      <th>ADVANCE</th>\n",
       "      <th>CRITISM</th>\n",
       "      <th>PROMOTION</th>\n",
       "    </tr>\n",
       "  </thead>\n",
       "  <tbody>\n",
       "    <tr>\n",
       "      <td>count</td>\n",
       "      <td>30.000</td>\n",
       "      <td>30.000</td>\n",
       "      <td>30.000</td>\n",
       "      <td>30.000</td>\n",
       "      <td>30.000</td>\n",
       "      <td>30.000</td>\n",
       "    </tr>\n",
       "    <tr>\n",
       "      <td>mean</td>\n",
       "      <td>66.600</td>\n",
       "      <td>53.133</td>\n",
       "      <td>56.367</td>\n",
       "      <td>64.633</td>\n",
       "      <td>74.767</td>\n",
       "      <td>42.933</td>\n",
       "    </tr>\n",
       "    <tr>\n",
       "      <td>std</td>\n",
       "      <td>13.315</td>\n",
       "      <td>12.235</td>\n",
       "      <td>11.737</td>\n",
       "      <td>10.397</td>\n",
       "      <td>9.895</td>\n",
       "      <td>10.289</td>\n",
       "    </tr>\n",
       "    <tr>\n",
       "      <td>min</td>\n",
       "      <td>37.000</td>\n",
       "      <td>30.000</td>\n",
       "      <td>34.000</td>\n",
       "      <td>43.000</td>\n",
       "      <td>49.000</td>\n",
       "      <td>25.000</td>\n",
       "    </tr>\n",
       "    <tr>\n",
       "      <td>25%</td>\n",
       "      <td>58.500</td>\n",
       "      <td>45.000</td>\n",
       "      <td>47.000</td>\n",
       "      <td>58.250</td>\n",
       "      <td>69.250</td>\n",
       "      <td>35.000</td>\n",
       "    </tr>\n",
       "    <tr>\n",
       "      <td>50%</td>\n",
       "      <td>65.000</td>\n",
       "      <td>51.500</td>\n",
       "      <td>56.500</td>\n",
       "      <td>63.500</td>\n",
       "      <td>77.500</td>\n",
       "      <td>41.000</td>\n",
       "    </tr>\n",
       "    <tr>\n",
       "      <td>75%</td>\n",
       "      <td>77.000</td>\n",
       "      <td>62.500</td>\n",
       "      <td>66.750</td>\n",
       "      <td>71.000</td>\n",
       "      <td>80.000</td>\n",
       "      <td>47.750</td>\n",
       "    </tr>\n",
       "    <tr>\n",
       "      <td>max</td>\n",
       "      <td>90.000</td>\n",
       "      <td>83.000</td>\n",
       "      <td>75.000</td>\n",
       "      <td>88.000</td>\n",
       "      <td>92.000</td>\n",
       "      <td>72.000</td>\n",
       "    </tr>\n",
       "  </tbody>\n",
       "</table>\n",
       "</div>"
      ],
      "text/plain": [
       "       DISSATIS  PRIVILEGE  CHANCE  ADVANCE  CRITISM  PROMOTION\n",
       "count    30.000     30.000  30.000   30.000   30.000     30.000\n",
       "mean     66.600     53.133  56.367   64.633   74.767     42.933\n",
       "std      13.315     12.235  11.737   10.397    9.895     10.289\n",
       "min      37.000     30.000  34.000   43.000   49.000     25.000\n",
       "25%      58.500     45.000  47.000   58.250   69.250     35.000\n",
       "50%      65.000     51.500  56.500   63.500   77.500     41.000\n",
       "75%      77.000     62.500  66.750   71.000   80.000     47.750\n",
       "max      90.000     83.000  75.000   88.000   92.000     72.000"
      ]
     },
     "execution_count": 41,
     "metadata": {},
     "output_type": "execute_result"
    }
   ],
   "source": [
    "df_raw_x.describe().round(3)\n"
   ]
  },
  {
   "cell_type": "code",
   "execution_count": 45,
   "metadata": {},
   "outputs": [
    {
     "name": "stdout",
     "output_type": "stream",
     "text": [
      "Scaled data : \n",
      " [[-1.192 -1.923 -1.505 -0.355  1.771  0.204]\n",
      " [-0.199 -0.177 -0.205 -0.16  -0.182  0.402]\n",
      " [ 0.26   1.236  1.095  1.112  1.155  0.501]\n",
      " [-0.275 -0.676 -0.812 -1.04   0.949 -0.784]\n",
      " [ 0.871  0.238  0.835  0.623  0.846  0.402]]\n",
      "Shape : \n",
      " (30, 6)\n"
     ]
    }
   ],
   "source": [
    "x_cols = df_raw_x.columns\n",
    "scaler = StandardScaler()\n",
    "\n",
    "nd_scaled = scaler.fit_transform(df_raw_x)\n",
    "print(\"Scaled data : \\n {}\".format(nd_scaled[:5].round(3)))\n",
    "print(\"Shape : \\n {}\".format(nd_scaled.shape))"
   ]
  },
  {
   "cell_type": "code",
   "execution_count": 46,
   "metadata": {},
   "outputs": [
    {
     "data": {
      "text/html": [
       "<div>\n",
       "<style scoped>\n",
       "    .dataframe tbody tr th:only-of-type {\n",
       "        vertical-align: middle;\n",
       "    }\n",
       "\n",
       "    .dataframe tbody tr th {\n",
       "        vertical-align: top;\n",
       "    }\n",
       "\n",
       "    .dataframe thead th {\n",
       "        text-align: right;\n",
       "    }\n",
       "</style>\n",
       "<table border=\"1\" class=\"dataframe\">\n",
       "  <thead>\n",
       "    <tr style=\"text-align: right;\">\n",
       "      <th></th>\n",
       "      <th>DISSATIS</th>\n",
       "      <th>PRIVILEGE</th>\n",
       "      <th>CHANCE</th>\n",
       "      <th>ADVANCE</th>\n",
       "      <th>CRITISM</th>\n",
       "      <th>PROMOTION</th>\n",
       "    </tr>\n",
       "  </thead>\n",
       "  <tbody>\n",
       "    <tr>\n",
       "      <td>count</td>\n",
       "      <td>30.000</td>\n",
       "      <td>30.000</td>\n",
       "      <td>30.000</td>\n",
       "      <td>30.000</td>\n",
       "      <td>30.000</td>\n",
       "      <td>30.000</td>\n",
       "    </tr>\n",
       "    <tr>\n",
       "      <td>mean</td>\n",
       "      <td>0.000</td>\n",
       "      <td>-0.000</td>\n",
       "      <td>-0.000</td>\n",
       "      <td>-0.000</td>\n",
       "      <td>0.000</td>\n",
       "      <td>0.000</td>\n",
       "    </tr>\n",
       "    <tr>\n",
       "      <td>std</td>\n",
       "      <td>1.017</td>\n",
       "      <td>1.017</td>\n",
       "      <td>1.017</td>\n",
       "      <td>1.017</td>\n",
       "      <td>1.017</td>\n",
       "      <td>1.017</td>\n",
       "    </tr>\n",
       "    <tr>\n",
       "      <td>min</td>\n",
       "      <td>-2.261</td>\n",
       "      <td>-1.923</td>\n",
       "      <td>-1.938</td>\n",
       "      <td>-2.116</td>\n",
       "      <td>-2.649</td>\n",
       "      <td>-1.773</td>\n",
       "    </tr>\n",
       "    <tr>\n",
       "      <td>25%</td>\n",
       "      <td>-0.619</td>\n",
       "      <td>-0.676</td>\n",
       "      <td>-0.812</td>\n",
       "      <td>-0.624</td>\n",
       "      <td>-0.567</td>\n",
       "      <td>-0.784</td>\n",
       "    </tr>\n",
       "    <tr>\n",
       "      <td>50%</td>\n",
       "      <td>-0.122</td>\n",
       "      <td>-0.136</td>\n",
       "      <td>0.012</td>\n",
       "      <td>-0.111</td>\n",
       "      <td>0.281</td>\n",
       "      <td>-0.191</td>\n",
       "    </tr>\n",
       "    <tr>\n",
       "      <td>75%</td>\n",
       "      <td>0.794</td>\n",
       "      <td>0.779</td>\n",
       "      <td>0.900</td>\n",
       "      <td>0.623</td>\n",
       "      <td>0.538</td>\n",
       "      <td>0.476</td>\n",
       "    </tr>\n",
       "    <tr>\n",
       "      <td>max</td>\n",
       "      <td>1.787</td>\n",
       "      <td>2.483</td>\n",
       "      <td>1.615</td>\n",
       "      <td>2.286</td>\n",
       "      <td>1.771</td>\n",
       "      <td>2.873</td>\n",
       "    </tr>\n",
       "  </tbody>\n",
       "</table>\n",
       "</div>"
      ],
      "text/plain": [
       "       DISSATIS  PRIVILEGE  CHANCE  ADVANCE  CRITISM  PROMOTION\n",
       "count    30.000     30.000  30.000   30.000   30.000     30.000\n",
       "mean      0.000     -0.000  -0.000   -0.000    0.000      0.000\n",
       "std       1.017      1.017   1.017    1.017    1.017      1.017\n",
       "min      -2.261     -1.923  -1.938   -2.116   -2.649     -1.773\n",
       "25%      -0.619     -0.676  -0.812   -0.624   -0.567     -0.784\n",
       "50%      -0.122     -0.136   0.012   -0.111    0.281     -0.191\n",
       "75%       0.794      0.779   0.900    0.623    0.538      0.476\n",
       "max       1.787      2.483   1.615    2.286    1.771      2.873"
      ]
     },
     "execution_count": 46,
     "metadata": {},
     "output_type": "execute_result"
    }
   ],
   "source": [
    "df_scaled = pd.DataFrame(nd_scaled, columns = x_cols)\n",
    "df_scaled.head().round(3)\n",
    "\n",
    "df_scaled.describe().round(3)"
   ]
  },
  {
   "cell_type": "code",
   "execution_count": 47,
   "metadata": {},
   "outputs": [
    {
     "name": "stdout",
     "output_type": "stream",
     "text": [
      "PCA Data : \n",
      " [[ 1.67606983 -2.73856419 -0.12843595 -0.50321261  0.24330658  0.22576117]\n",
      " [ 0.21834397 -0.12615302  0.43115839  0.08726221  0.19566103  0.1941439 ]\n",
      " [-2.10515127 -0.51500683 -0.27683087  0.49131136 -0.44691698 -0.63174369]\n",
      " [ 1.35994032 -0.86064574 -0.91799066  0.03173793 -0.40137177  0.44095403]\n",
      " [-1.5120347  -0.35277019 -0.32684445 -0.32877858 -0.32709718  0.21246099]]\n",
      "Shape : \n",
      " (30, 6)\n"
     ]
    }
   ],
   "source": [
    "pca = PCA(n_components = 6)\n",
    "nd_pca = pca.fit_transform(df_scaled)\n",
    "\n",
    "print(\"PCA Data : \\n {}\".format(nd_pca[:5]))\n",
    "print(\"Shape : \\n {}\".format(nd_pca.shape))"
   ]
  },
  {
   "cell_type": "code",
   "execution_count": 56,
   "metadata": {},
   "outputs": [
    {
     "data": {
      "text/html": [
       "<div>\n",
       "<style scoped>\n",
       "    .dataframe tbody tr th:only-of-type {\n",
       "        vertical-align: middle;\n",
       "    }\n",
       "\n",
       "    .dataframe tbody tr th {\n",
       "        vertical-align: top;\n",
       "    }\n",
       "\n",
       "    .dataframe thead th {\n",
       "        text-align: right;\n",
       "    }\n",
       "</style>\n",
       "<table border=\"1\" class=\"dataframe\">\n",
       "  <thead>\n",
       "    <tr style=\"text-align: right;\">\n",
       "      <th></th>\n",
       "      <th>DISSATIS</th>\n",
       "      <th>PRIVILEGE</th>\n",
       "      <th>CHANCE</th>\n",
       "      <th>ADVANCE</th>\n",
       "      <th>CRITISM</th>\n",
       "      <th>PROMOTION</th>\n",
       "      <th>Prin1</th>\n",
       "      <th>Prin2</th>\n",
       "      <th>Prin3</th>\n",
       "      <th>Prin4</th>\n",
       "      <th>Prin5</th>\n",
       "      <th>Prin6</th>\n",
       "    </tr>\n",
       "  </thead>\n",
       "  <tbody>\n",
       "    <tr>\n",
       "      <td>0</td>\n",
       "      <td>-1.191662</td>\n",
       "      <td>-1.923006</td>\n",
       "      <td>-1.504945</td>\n",
       "      <td>-0.355426</td>\n",
       "      <td>1.771410</td>\n",
       "      <td>0.204301</td>\n",
       "      <td>1.676070</td>\n",
       "      <td>-2.738564</td>\n",
       "      <td>-0.128436</td>\n",
       "      <td>-0.503213</td>\n",
       "      <td>0.243307</td>\n",
       "      <td>0.225761</td>\n",
       "    </tr>\n",
       "    <tr>\n",
       "      <td>1</td>\n",
       "      <td>-0.198610</td>\n",
       "      <td>-0.177338</td>\n",
       "      <td>-0.205088</td>\n",
       "      <td>-0.159779</td>\n",
       "      <td>-0.181595</td>\n",
       "      <td>0.402012</td>\n",
       "      <td>0.218344</td>\n",
       "      <td>-0.126153</td>\n",
       "      <td>0.431158</td>\n",
       "      <td>0.087262</td>\n",
       "      <td>0.195661</td>\n",
       "      <td>0.194144</td>\n",
       "    </tr>\n",
       "    <tr>\n",
       "      <td>2</td>\n",
       "      <td>0.259721</td>\n",
       "      <td>1.235822</td>\n",
       "      <td>1.094768</td>\n",
       "      <td>1.111930</td>\n",
       "      <td>1.154672</td>\n",
       "      <td>0.500868</td>\n",
       "      <td>-2.105151</td>\n",
       "      <td>-0.515007</td>\n",
       "      <td>-0.276831</td>\n",
       "      <td>0.491311</td>\n",
       "      <td>-0.446917</td>\n",
       "      <td>-0.631744</td>\n",
       "    </tr>\n",
       "    <tr>\n",
       "      <td>3</td>\n",
       "      <td>-0.274999</td>\n",
       "      <td>-0.676100</td>\n",
       "      <td>-0.811688</td>\n",
       "      <td>-1.040192</td>\n",
       "      <td>0.949092</td>\n",
       "      <td>-0.784254</td>\n",
       "      <td>1.359940</td>\n",
       "      <td>-0.860646</td>\n",
       "      <td>-0.917991</td>\n",
       "      <td>0.031738</td>\n",
       "      <td>-0.401372</td>\n",
       "      <td>0.440954</td>\n",
       "    </tr>\n",
       "    <tr>\n",
       "      <td>4</td>\n",
       "      <td>0.870830</td>\n",
       "      <td>0.238298</td>\n",
       "      <td>0.834797</td>\n",
       "      <td>0.622811</td>\n",
       "      <td>0.846302</td>\n",
       "      <td>0.402012</td>\n",
       "      <td>-1.512035</td>\n",
       "      <td>-0.352770</td>\n",
       "      <td>-0.326844</td>\n",
       "      <td>-0.328779</td>\n",
       "      <td>-0.327097</td>\n",
       "      <td>0.212461</td>\n",
       "    </tr>\n",
       "  </tbody>\n",
       "</table>\n",
       "</div>"
      ],
      "text/plain": [
       "   DISSATIS  PRIVILEGE    CHANCE   ADVANCE   CRITISM  PROMOTION     Prin1  \\\n",
       "0 -1.191662  -1.923006 -1.504945 -0.355426  1.771410   0.204301  1.676070   \n",
       "1 -0.198610  -0.177338 -0.205088 -0.159779 -0.181595   0.402012  0.218344   \n",
       "2  0.259721   1.235822  1.094768  1.111930  1.154672   0.500868 -2.105151   \n",
       "3 -0.274999  -0.676100 -0.811688 -1.040192  0.949092  -0.784254  1.359940   \n",
       "4  0.870830   0.238298  0.834797  0.622811  0.846302   0.402012 -1.512035   \n",
       "\n",
       "      Prin2     Prin3     Prin4     Prin5     Prin6  \n",
       "0 -2.738564 -0.128436 -0.503213  0.243307  0.225761  \n",
       "1 -0.126153  0.431158  0.087262  0.195661  0.194144  \n",
       "2 -0.515007 -0.276831  0.491311 -0.446917 -0.631744  \n",
       "3 -0.860646 -0.917991  0.031738 -0.401372  0.440954  \n",
       "4 -0.352770 -0.326844 -0.328779 -0.327097  0.212461  "
      ]
     },
     "execution_count": 56,
     "metadata": {},
     "output_type": "execute_result"
    }
   ],
   "source": [
    "df_pca = pd.DataFrame(nd_pca, columns = [\"Prin1\",\"Prin2\",'Prin3','Prin4','Prin5','Prin6'])\n",
    "\n",
    "df_scaled_pca = df_scaled.join(df_pca)\n",
    "df_scaled_pca.head()"
   ]
  },
  {
   "cell_type": "code",
   "execution_count": 57,
   "metadata": {},
   "outputs": [
    {
     "data": {
      "text/html": [
       "<div>\n",
       "<style scoped>\n",
       "    .dataframe tbody tr th:only-of-type {\n",
       "        vertical-align: middle;\n",
       "    }\n",
       "\n",
       "    .dataframe tbody tr th {\n",
       "        vertical-align: top;\n",
       "    }\n",
       "\n",
       "    .dataframe thead th {\n",
       "        text-align: right;\n",
       "    }\n",
       "</style>\n",
       "<table border=\"1\" class=\"dataframe\">\n",
       "  <thead>\n",
       "    <tr style=\"text-align: right;\">\n",
       "      <th></th>\n",
       "      <th>PrinNo</th>\n",
       "      <th>EigenValues</th>\n",
       "      <th>EigenValueRatio</th>\n",
       "      <th>CumEigenValueRatio</th>\n",
       "    </tr>\n",
       "  </thead>\n",
       "  <tbody>\n",
       "    <tr>\n",
       "      <td>0</td>\n",
       "      <td>1</td>\n",
       "      <td>3.279</td>\n",
       "      <td>0.528</td>\n",
       "      <td>0.528</td>\n",
       "    </tr>\n",
       "    <tr>\n",
       "      <td>1</td>\n",
       "      <td>2</td>\n",
       "      <td>1.041</td>\n",
       "      <td>0.168</td>\n",
       "      <td>0.696</td>\n",
       "    </tr>\n",
       "    <tr>\n",
       "      <td>2</td>\n",
       "      <td>3</td>\n",
       "      <td>0.789</td>\n",
       "      <td>0.127</td>\n",
       "      <td>0.823</td>\n",
       "    </tr>\n",
       "    <tr>\n",
       "      <td>3</td>\n",
       "      <td>4</td>\n",
       "      <td>0.572</td>\n",
       "      <td>0.092</td>\n",
       "      <td>0.915</td>\n",
       "    </tr>\n",
       "    <tr>\n",
       "      <td>4</td>\n",
       "      <td>5</td>\n",
       "      <td>0.328</td>\n",
       "      <td>0.053</td>\n",
       "      <td>0.968</td>\n",
       "    </tr>\n",
       "    <tr>\n",
       "      <td>5</td>\n",
       "      <td>6</td>\n",
       "      <td>0.198</td>\n",
       "      <td>0.032</td>\n",
       "      <td>1.000</td>\n",
       "    </tr>\n",
       "  </tbody>\n",
       "</table>\n",
       "</div>"
      ],
      "text/plain": [
       "   PrinNo  EigenValues  EigenValueRatio  CumEigenValueRatio\n",
       "0       1        3.279            0.528               0.528\n",
       "1       2        1.041            0.168               0.696\n",
       "2       3        0.789            0.127               0.823\n",
       "3       4        0.572            0.092               0.915\n",
       "4       5        0.328            0.053               0.968\n",
       "5       6        0.198            0.032               1.000"
      ]
     },
     "execution_count": 57,
     "metadata": {},
     "output_type": "execute_result"
    }
   ],
   "source": [
    "df_pca_stat = pd.DataFrame()\n",
    "df_pca_stat['PrinNo'] = [i for i in range(1,7)]\n",
    "df_pca_stat['EigenValues'] = pca.explained_variance_\n",
    "df_pca_stat['EigenValueRatio'] = pca.explained_variance_ratio_\n",
    "df_pca_stat['CumEigenValueRatio'] = np.cumsum(pca.explained_variance_ratio_)\n",
    "df_pca_stat.round(3)"
   ]
  },
  {
   "cell_type": "code",
   "execution_count": 58,
   "metadata": {},
   "outputs": [
    {
     "data": {
      "text/plain": [
       "<matplotlib.legend.Legend at 0x7f3dd0cd2e50>"
      ]
     },
     "execution_count": 58,
     "metadata": {},
     "output_type": "execute_result"
    },
    {
     "data": {
      "image/png": "[encoded data removed]",
      "text/plain": [
       "<Figure size 432x288 with 1 Axes>"
      ]
     },
     "metadata": {
      "needs_background": "light"
     },
     "output_type": "display_data"
    }
   ],
   "source": [
    "plt.plot(df_pca_stat['PrinNo'], df_pca_stat['EigenValues'],\n",
    "        label = \"고유값\")\n",
    "plt.ylabel(\"고유값(Eigenvalue)\")\n",
    "plt.xlabel(\"주성분 번호\")\n",
    "plt.legend(loc = \"best\")"
   ]
  },
  {
   "cell_type": "code",
   "execution_count": 59,
   "metadata": {},
   "outputs": [
    {
     "data": {
      "text/plain": [
       "<matplotlib.legend.Legend at 0x7f3dd1c34050>"
      ]
     },
     "execution_count": 59,
     "metadata": {},
     "output_type": "execute_result"
    },
    {
     "data": {
      "image/png": "[encoded data removed]",
      "text/plain": [
       "<Figure size 432x288 with 1 Axes>"
      ]
     },
     "metadata": {
      "needs_background": "light"
     },
     "output_type": "display_data"
    }
   ],
   "source": [
    "plt.plot(df_pca_stat['PrinNo'],\n",
    "        df_pca_stat['EigenValueRatio'], label = \"고유값\")\n",
    "plt.plot(df_pca_stat['PrinNo'],\n",
    "        df_pca_stat['CumEigenValueRatio'],\n",
    "        label = \"누적 고유값\")\n",
    "plt.ylabel(\"고유값 비율\")\n",
    "plt.xlabel(\"주성분 번호\")\n",
    "plt.legend(loc = \"best\")"
   ]
  },
  {
   "cell_type": "code",
   "execution_count": 60,
   "metadata": {},
   "outputs": [
    {
     "data": {
      "text/html": [
       "<div>\n",
       "<style scoped>\n",
       "    .dataframe tbody tr th:only-of-type {\n",
       "        vertical-align: middle;\n",
       "    }\n",
       "\n",
       "    .dataframe tbody tr th {\n",
       "        vertical-align: top;\n",
       "    }\n",
       "\n",
       "    .dataframe thead th {\n",
       "        text-align: right;\n",
       "    }\n",
       "</style>\n",
       "<table border=\"1\" class=\"dataframe\">\n",
       "  <thead>\n",
       "    <tr style=\"text-align: right;\">\n",
       "      <th></th>\n",
       "      <th>Feature</th>\n",
       "      <th>Prin1</th>\n",
       "      <th>Prin2</th>\n",
       "      <th>Prin3</th>\n",
       "      <th>Prin4</th>\n",
       "      <th>Prin5</th>\n",
       "      <th>Prin6</th>\n",
       "    </tr>\n",
       "  </thead>\n",
       "  <tbody>\n",
       "    <tr>\n",
       "      <td>0</td>\n",
       "      <td>DISSATIS</td>\n",
       "      <td>0.439</td>\n",
       "      <td>-0.313</td>\n",
       "      <td>0.445</td>\n",
       "      <td>0.316</td>\n",
       "      <td>-0.192</td>\n",
       "      <td>-0.612</td>\n",
       "    </tr>\n",
       "    <tr>\n",
       "      <td>1</td>\n",
       "      <td>PRIVILEGE</td>\n",
       "      <td>0.395</td>\n",
       "      <td>-0.309</td>\n",
       "      <td>0.217</td>\n",
       "      <td>-0.815</td>\n",
       "      <td>-0.038</td>\n",
       "      <td>0.190</td>\n",
       "    </tr>\n",
       "    <tr>\n",
       "      <td>2</td>\n",
       "      <td>CHANCE</td>\n",
       "      <td>0.461</td>\n",
       "      <td>-0.217</td>\n",
       "      <td>-0.272</td>\n",
       "      <td>0.225</td>\n",
       "      <td>0.776</td>\n",
       "      <td>0.118</td>\n",
       "    </tr>\n",
       "    <tr>\n",
       "      <td>3</td>\n",
       "      <td>ADVANCE</td>\n",
       "      <td>0.493</td>\n",
       "      <td>0.116</td>\n",
       "      <td>0.006</td>\n",
       "      <td>0.365</td>\n",
       "      <td>-0.460</td>\n",
       "      <td>0.631</td>\n",
       "    </tr>\n",
       "    <tr>\n",
       "      <td>4</td>\n",
       "      <td>CRITISM</td>\n",
       "      <td>0.225</td>\n",
       "      <td>0.802</td>\n",
       "      <td>0.457</td>\n",
       "      <td>-0.100</td>\n",
       "      <td>0.289</td>\n",
       "      <td>-0.058</td>\n",
       "    </tr>\n",
       "    <tr>\n",
       "      <td>5</td>\n",
       "      <td>PROMOTION</td>\n",
       "      <td>0.381</td>\n",
       "      <td>0.321</td>\n",
       "      <td>-0.687</td>\n",
       "      <td>-0.206</td>\n",
       "      <td>-0.255</td>\n",
       "      <td>-0.416</td>\n",
       "    </tr>\n",
       "  </tbody>\n",
       "</table>\n",
       "</div>"
      ],
      "text/plain": [
       "     Feature  Prin1  Prin2  Prin3  Prin4  Prin5  Prin6\n",
       "0   DISSATIS  0.439 -0.313  0.445  0.316 -0.192 -0.612\n",
       "1  PRIVILEGE  0.395 -0.309  0.217 -0.815 -0.038  0.190\n",
       "2     CHANCE  0.461 -0.217 -0.272  0.225  0.776  0.118\n",
       "3    ADVANCE  0.493  0.116  0.006  0.365 -0.460  0.631\n",
       "4    CRITISM  0.225  0.802  0.457 -0.100  0.289 -0.058\n",
       "5  PROMOTION  0.381  0.321 -0.687 -0.206 -0.255 -0.416"
      ]
     },
     "execution_count": 60,
     "metadata": {},
     "output_type": "execute_result"
    }
   ],
   "source": [
    "x_cols = pd.DataFrame({\"Feature\": df_raw_x.columns})\n",
    "\n",
    "df_eigenvector = pd.concat([x_cols,\n",
    "                            pd.DataFrame(pca.components_.T * -1,\n",
    "                                        columns = [\"Prin1\",\"Prin2\",'Prin3','Prin4','Prin5','Prin6'])], axis = 1)\n",
    "df_eigenvector.round(3)"
   ]
  },
  {
   "cell_type": "code",
   "execution_count": 61,
   "metadata": {},
   "outputs": [
    {
     "data": {
      "text/plain": [
       "<seaborn.axisgrid.PairGrid at 0x7f3dd0be39d0>"
      ]
     },
     "execution_count": 61,
     "metadata": {},
     "output_type": "execute_result"
    },
    {
     "data": {
      "image/png": "[encoded data removed]",
      "text/plain": [
       "<Figure size 1080x1080 with 42 Axes>"
      ]
     },
     "metadata": {
      "needs_background": "light"
     },
     "output_type": "display_data"
    }
   ],
   "source": [
    "df_pca.corr().round(3)\n",
    "sns.pairplot(df_pca)"
   ]
  },
  {
   "cell_type": "code",
   "execution_count": null,
   "metadata": {},
   "outputs": [],
   "source": []
  },
  {
   "cell_type": "code",
   "execution_count": null,
   "metadata": {},
   "outputs": [],
   "source": [
    "Prin1가 mean concavity와 -0.258, mean concave points와 -0.261 등의 음의 관계,\n",
    "Prin2가 mean fractal dimension과 -0.367의 음의 관계\n",
    "Prin3가 texture error와 -0.375, smoothness error와 -0.309의 음의 관계\n",
    "Prin4가 mean texture와 0.603, texture error와 0.360의 양의 관계\n",
    "Prin5가 mean smoothness와 0.365, worst smoothness와 0.324의 양의 관계\n",
    "Prin6가 symmetry error와 -0.490, worst symmetry와 -0.499의 음의 관계를 보인다."
   ]
  },
  {
   "cell_type": "code",
   "execution_count": null,
   "metadata": {},
   "outputs": [],
   "source": []
  },
  {
   "cell_type": "code",
   "execution_count": null,
   "metadata": {},
   "outputs": [],
   "source": []
  },
  {
   "cell_type": "code",
   "execution_count": null,
   "metadata": {},
   "outputs": [],
   "source": []
  },
  {
   "cell_type": "code",
   "execution_count": null,
   "metadata": {},
   "outputs": [],
   "source": []
  },
  {
   "cell_type": "code",
   "execution_count": null,
   "metadata": {},
   "outputs": [],
   "source": []
  },
  {
   "cell_type": "code",
   "execution_count": null,
   "metadata": {},
   "outputs": [],
   "source": []
  },
  {
   "cell_type": "code",
   "execution_count": null,
   "metadata": {},
   "outputs": [],
   "source": []
  },
  {
   "cell_type": "code",
   "execution_count": null,
   "metadata": {},
   "outputs": [],
   "source": []
  },
  {
   "cell_type": "code",
   "execution_count": null,
   "metadata": {},
   "outputs": [],
   "source": []
  },
  {
   "cell_type": "code",
   "execution_count": null,
   "metadata": {},
   "outputs": [],
   "source": []
  },
  {
   "cell_type": "code",
   "execution_count": null,
   "metadata": {},
   "outputs": [],
   "source": []
  },
  {
   "cell_type": "code",
   "execution_count": null,
   "metadata": {},
   "outputs": [],
   "source": []
  },
  {
   "cell_type": "code",
   "execution_count": null,
   "metadata": {},
   "outputs": [],
   "source": []
  },
  {
   "cell_type": "code",
   "execution_count": null,
   "metadata": {},
   "outputs": [],
   "source": []
  },
  {
   "cell_type": "code",
   "execution_count": null,
   "metadata": {},
   "outputs": [],
   "source": []
  },
  {
   "cell_type": "code",
   "execution_count": null,
   "metadata": {},
   "outputs": [],
   "source": []
  }
 ],
 "metadata": {
  "kernelspec": {
   "display_name": "Python 3",
   "language": "python",
   "name": "python3"
  },
  "language_info": {
   "codemirror_mode": {
    "name": "ipython",
    "version": 3
   },
   "file_extension": ".py",
   "mimetype": "text/x-python",
   "name": "python",
   "nbconvert_exporter": "python",
   "pygments_lexer": "ipython3",
   "version": "3.7.6"
  }
 },
 "nbformat": 4,
 "nbformat_minor": 2
}
